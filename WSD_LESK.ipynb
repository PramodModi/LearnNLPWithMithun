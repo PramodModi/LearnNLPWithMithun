{
  "nbformat": 4,
  "nbformat_minor": 0,
  "metadata": {
    "colab": {
      "name": "WSD_LESK.ipynb",
      "provenance": [],
      "authorship_tag": "ABX9TyOV1lI5xNZoM5zDOmxy3Rx5",
      "include_colab_link": true
    },
    "kernelspec": {
      "name": "python3",
      "display_name": "Python 3"
    },
    "language_info": {
      "name": "python"
    }
  },
  "cells": [
    {
      "cell_type": "markdown",
      "metadata": {
        "id": "view-in-github",
        "colab_type": "text"
      },
      "source": [
        "<a href=\"https://colab.research.google.com/github/mithunkumarsr/LearnNLPWithMithun/blob/main/WSD_LESK.ipynb\" target=\"_parent\"><img src=\"https://colab.research.google.com/assets/colab-badge.svg\" alt=\"Open In Colab\"/></a>"
      ]
    },
    {
      "cell_type": "code",
      "metadata": {
        "colab": {
          "base_uri": "https://localhost:8080/"
        },
        "id": "i9zwJ4599-g7",
        "outputId": "c43369b3-b965-41eb-ae92-e97fa40bea14"
      },
      "source": [
        "import nltk\n",
        "nltk.download('punkt')\n",
        "nltk.download('wordnet')\n",
        "from nltk.wsd import lesk\n",
        "from nltk.tokenize import word_tokenize"
      ],
      "execution_count": 5,
      "outputs": [
        {
          "output_type": "stream",
          "text": [
            "[nltk_data] Downloading package punkt to /root/nltk_data...\n",
            "[nltk_data]   Package punkt is already up-to-date!\n",
            "[nltk_data] Downloading package wordnet to /root/nltk_data...\n",
            "[nltk_data]   Unzipping corpora/wordnet.zip.\n"
          ],
          "name": "stdout"
        }
      ]
    },
    {
      "cell_type": "code",
      "metadata": {
        "colab": {
          "base_uri": "https://localhost:8080/"
        },
        "id": "e08mAzmBAdK9",
        "outputId": "ba5ec68d-2d7b-4db3-e9ed-51e8d3d80d7a"
      },
      "source": [
        "a1= lesk(word_tokenize('This device is used to jam the signal'),'jam')\n",
        "print(a1,a1.definition())\n",
        "a2 = lesk(word_tokenize('I am stuck in a traffic jam'),'jam')\n",
        "print(a2,a2.definition())"
      ],
      "execution_count": 6,
      "outputs": [
        {
          "output_type": "stream",
          "text": [
            "Synset('jamming.n.01') deliberate radiation or reflection of electromagnetic energy for the purpose of disrupting enemy use of electronic devices or systems\n",
            "Synset('jam.v.05') get stuck and immobilized\n"
          ],
          "name": "stdout"
        }
      ]
    },
    {
      "cell_type": "code",
      "metadata": {
        "colab": {
          "base_uri": "https://localhost:8080/"
        },
        "id": "knO7cBdUBFhl",
        "outputId": "9d2b75f2-101c-437d-b0ef-995e166a5b98"
      },
      "source": [
        "# testing with some data\n",
        "b1= lesk(word_tokenize('Apply spices to the chicken to season it'),'season')\n",
        "print(b1,b1.definition())"
      ],
      "execution_count": 7,
      "outputs": [
        {
          "output_type": "stream",
          "text": [
            "Synset('season.v.01') lend flavor to\n"
          ],
          "name": "stdout"
        }
      ]
    },
    {
      "cell_type": "code",
      "metadata": {
        "colab": {
          "base_uri": "https://localhost:8080/"
        },
        "id": "7Ladu9hTBLOj",
        "outputId": "a59e3e6f-faf6-45bf-cfaa-cf2c1d875e1f"
      },
      "source": [
        "b2= lesk(word_tokenize('India receives a lot of rain in the rainy season'),'season')\n",
        "print(b2,b2.definition())"
      ],
      "execution_count": 8,
      "outputs": [
        {
          "output_type": "stream",
          "text": [
            "Synset('season.n.01') a period of the year marked by special events or activities in some field\n"
          ],
          "name": "stdout"
        }
      ]
    },
    {
      "cell_type": "code",
      "metadata": {
        "colab": {
          "base_uri": "https://localhost:8080/"
        },
        "id": "UNlgSBPNBTe6",
        "outputId": "103ff881-4b9b-4a02-a4b5-a97e1f0b7741"
      },
      "source": [
        "c1= lesk(word_tokenize('Water current'),'current')\n",
        "print(c1,c1.definition())"
      ],
      "execution_count": 9,
      "outputs": [
        {
          "output_type": "stream",
          "text": [
            "Synset('stream.n.02') dominant course (suggestive of running water) of successive events or ideas\n"
          ],
          "name": "stdout"
        }
      ]
    },
    {
      "cell_type": "code",
      "metadata": {
        "colab": {
          "base_uri": "https://localhost:8080/"
        },
        "id": "GRIT4xLlBaPC",
        "outputId": "097d310f-811f-4acf-d567-6a909f01a68b"
      },
      "source": [
        "# testing with some data\n",
        "c1= lesk(word_tokenize('The current time is 2 AM'),'current')\n",
        "print(c1,c1.definition())"
      ],
      "execution_count": 10,
      "outputs": [
        {
          "output_type": "stream",
          "text": [
            "Synset('current.a.01') occurring in or belonging to the present time\n"
          ],
          "name": "stdout"
        }
      ]
    }
  ]
}