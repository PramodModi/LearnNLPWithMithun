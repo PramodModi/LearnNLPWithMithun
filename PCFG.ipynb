{
 "metadata": {
  "language_info": {
   "codemirror_mode": {
    "name": "ipython",
    "version": 3
   },
   "file_extension": ".py",
   "mimetype": "text/x-python",
   "name": "python",
   "nbconvert_exporter": "python",
   "pygments_lexer": "ipython3",
   "version": "2.7.16"
  },
  "orig_nbformat": 4,
  "kernelspec": {
   "name": "python3",
   "display_name": "Python 2.7.16 64-bit (conda)"
  },
  "interpreter": {
   "hash": "4e0433a132e809af46edf3ec5adc05f2aac74aa36ed4ce99e0d2f165c2fbe8aa"
  }
 },
 "nbformat": 4,
 "nbformat_minor": 2,
 "cells": [
  {
   "cell_type": "code",
   "execution_count": 1,
   "metadata": {},
   "outputs": [],
   "source": [
    "import sys, time\n",
    "from nltk import tokenize\n",
    "from nltk.grammar import toy_pcfg1\n",
    "from nltk.parse import pchart\n",
    "from nltk.parse import ViterbiParser\n",
    "\n",
    "demos = [('I saw John with my telescope', toy_pcfg1)]\n",
    "sent, grammar = demos[0]\n",
    "\n",
    "# Tokenize the sentence.\n",
    "tokens = sent.split()\n",
    "\n",
    "# Define a list of parsers.  We'll use all parsers.\n",
    "parsers = [\n",
    "ViterbiParser(grammar),\n",
    "pchart.InsideChartParser(grammar),\n",
    "pchart.RandomChartParser(grammar),\n",
    "pchart.UnsortedChartParser(grammar),\n",
    "pchart.LongestChartParser(grammar),\n",
    "pchart.InsideChartParser(grammar, beam_size = len(tokens)+1)\n",
    "]"
   ]
  },
  {
   "cell_type": "code",
   "execution_count": 2,
   "metadata": {
    "tags": [
     "outputPrepend"
    ]
   },
   "outputs": [
    {
     "output_type": "stream",
     "name": "stdout",
     "text": [
      "[-] . . . .| [1:2] 'saw'                        [1.0]\n  |. . [-] . . .| [2:3] 'John'                       [1.0]\n  |. . . [-] . .| [3:4] 'with'                       [1.0]\n  |. . . . [-] .| [4:5] 'my'                         [1.0]\n  |. . . . . [-]| [5:6] 'telescope'                  [1.0]\n  |. . . . . [-]| [5:6] 'telescope'                  [1.0]\n  |. . . . [-] .| [4:5] 'my'                         [1.0]\n  |. . . [-] . .| [3:4] 'with'                       [1.0]\n  |. . [-] . . .| [2:3] 'John'                       [1.0]\n  |. [-] . . . .| [1:2] 'saw'                        [1.0]\n  |[-] . . . . .| [0:1] 'I'                          [1.0]\n  |. [-] . . . .| [1:2] V  -> 'saw' *                [0.65]\n  |. > . . . . .| [1:1] VP -> * V NP                 [0.7]\n  |. > . . . . .| [1:1] V  -> * 'saw'                [0.65]\n  |. . . [-] . .| [3:4] P  -> 'with' *               [0.61]\n  |. . . > . . .| [3:3] PP -> * P NP                 [1.0]\n  |. . . [-> . .| [3:4] PP -> P * NP                 [0.61]\n  |. . . > . . .| [3:3] P  -> * 'with'               [0.61]\n  |. . . . . [-]| [5:6] N  -> 'telescope' *          [0.5]\n  |. . . . . > .| [5:5] N  -> * 'telescope'          [0.5]\n  |. [-> . . . .| [1:2] VP -> V * NP                 [0.455]\n  |. > . . . . .| [1:1] VP -> * V                    [0.2]\n  |. . . . [-] .| [4:5] Det -> 'my' *                [0.2]\n  |. . . . > . .| [4:4] NP -> * Det N                [0.5]\n  |. . . . > . .| [4:4] Det -> * 'my'                [0.2]\n  |[-] . . . . .| [0:1] NP -> 'I' *                  [0.15]\n  |> . . . . . .| [0:0] S  -> * NP VP                [1.0]\n  |> . . . . . .| [0:0] NP -> * NP PP                [0.25]\n  |[-> . . . . .| [0:1] S  -> NP * VP                [0.15]\n  |> . . . . . .| [0:0] NP -> * 'I'                  [0.15]\n  |. [-] . . . .| [1:2] VP -> V *                    [0.13]\n  |. > . . . . .| [1:1] VP -> * VP PP                [0.1]\n  |. . . . [-> .| [4:5] NP -> Det * N                [0.1]\n  |. . [-] . . .| [2:3] NP -> 'John' *               [0.1]\n  |. . > . . . .| [2:2] S  -> * NP VP                [1.0]\n  |. . > . . . .| [2:2] NP -> * NP PP                [0.25]\n  |. . [-> . . .| [2:3] S  -> NP * VP                [0.1]\n  |. . > . . . .| [2:2] NP -> * 'John'               [0.1]\n  |. . . . [---]| [4:6] NP -> Det N *                [0.05]\n  |. . . . > . .| [4:4] S  -> * NP VP                [1.0]\n  |. . . . > . .| [4:4] NP -> * NP PP                [0.25]\n  |. . . . [--->| [4:6] S  -> NP * VP                [0.05]\n  |. [---] . . .| [1:3] VP -> V NP *                 [0.0455]\n  |[-> . . . . .| [0:1] NP -> NP * PP                [0.0375]\n  |. . . [-----]| [3:6] PP -> P NP *                 [0.0305]\n  |. . [-> . . .| [2:3] NP -> NP * PP                [0.025]\n  |[---] . . . .| [0:2] S  -> NP VP *                [0.0195]\n  |. [-> . . . .| [1:2] VP -> VP * PP                [0.013]\n  |. . . . [--->| [4:6] NP -> NP * PP                [0.0125]\n  |[-----] . . .| [0:3] S  -> NP VP *                [0.006825]\n  |. [---> . . .| [1:3] VP -> VP * PP                [0.00455]\n  |. . [-------]| [2:6] NP -> NP PP *                [0.0007625]\n  |. . [------->| [2:6] S  -> NP * VP                [0.0007625]\n  |. [---------]| [1:6] VP -> V NP *                 [0.0003469375]\n  |. . [------->| [2:6] NP -> NP * PP                [0.000190625]\n  |. [---------]| [1:6] VP -> VP PP *                [0.000138775]\n  |[===========]| [0:6] S  -> NP VP *                [5.2040625e-05]\n  |. [--------->| [1:6] VP -> VP * PP                [3.469375e-05]\n  |[===========]| [0:6] S  -> NP VP *                [2.081625e-05]\n  |. [--------->| [1:6] VP -> VP * PP                [1.38775e-05]\n\ns: I saw John with my telescope\nparser: <nltk.parse.pchart.RandomChartParser object at 0x7ff984b15650>\ngrammar: Grammar with 17 productions (start state = S)\n    S -> NP VP [1.0]\n    NP -> Det N [0.5]\n    NP -> NP PP [0.25]\n    NP -> 'John' [0.1]\n    NP -> 'I' [0.15]\n    Det -> 'the' [0.8]\n    Det -> 'my' [0.2]\n    N -> 'man' [0.5]\n    N -> 'telescope' [0.5]\n    VP -> VP PP [0.1]\n    VP -> V NP [0.7]\n    VP -> V [0.2]\n    V -> 'ate' [0.35]\n    V -> 'saw' [0.65]\n    PP -> P NP [1.0]\n    P -> 'with' [0.61]\n    P -> 'under' [0.39]\n  |[-] . . . . .| [0:1] 'I'                          [1.0]\n  |. [-] . . . .| [1:2] 'saw'                        [1.0]\n  |. . [-] . . .| [2:3] 'John'                       [1.0]\n  |. . . [-] . .| [3:4] 'with'                       [1.0]\n  |. . . . [-] .| [4:5] 'my'                         [1.0]\n  |. . . . . [-]| [5:6] 'telescope'                  [1.0]\n  |. . . [-] . .| [3:4] 'with'                       [1.0]\n  |. . . [-] . .| [3:4] P  -> 'with' *               [0.61]\n  |. . . . [-] .| [4:5] 'my'                         [1.0]\n  |[-] . . . . .| [0:1] 'I'                          [1.0]\n  |. [-] . . . .| [1:2] 'saw'                        [1.0]\n  |. . . . [-] .| [4:5] Det -> 'my' *                [0.2]\n  |. . . . > . .| [4:4] NP -> * Det N                [0.5]\n  |. [-] . . . .| [1:2] V  -> 'saw' *                [0.65]\n  |. . [-] . . .| [2:3] 'John'                       [1.0]\n  |. . . . . [-]| [5:6] 'telescope'                  [1.0]\n  |[-] . . . . .| [0:1] NP -> 'I' *                  [0.15]\n  |. . . > . . .| [3:3] PP -> * P NP                 [1.0]\n  |. > . . . . .| [1:1] V  -> * 'saw'                [0.65]\n  |. . [-] . . .| [2:3] NP -> 'John' *               [0.1]\n  |. . [-> . . .| [2:3] S  -> NP * VP                [0.1]\n  |. > . . . . .| [1:1] VP -> * V NP                 [0.7]\n  |. . > . . . .| [2:2] NP -> * 'John'               [0.1]\n  |> . . . . . .| [0:0] S  -> * NP VP                [1.0]\n  |. . > . . . .| [2:2] NP -> * NP PP                [0.25]\n  |. . . > . . .| [3:3] P  -> * 'with'               [0.61]\n  |. [-> . . . .| [1:2] VP -> V * NP                 [0.455]\n  |. > . . . . .| [1:1] VP -> * V                    [0.2]\n  |. . . . . > .| [5:5] N  -> * 'telescope'          [0.5]\n  |. . . . . [-]| [5:6] N  -> 'telescope' *          [0.5]\n  |[-> . . . . .| [0:1] S  -> NP * VP                [0.15]\n  |. [-] . . . .| [1:2] VP -> V *                    [0.13]\n  |. [-> . . . .| [1:2] VP -> VP * PP                [0.013]\n  |. . . . [-> .| [4:5] NP -> Det * N                [0.1]\n  |. > . . . . .| [1:1] VP -> * VP PP                [0.1]\n  |[---] . . . .| [0:2] S  -> NP VP *                [0.0195]\n  |. [---> . . .| [1:3] VP -> VP * PP                [0.00455]\n  |[-> . . . . .| [0:1] NP -> NP * PP                [0.0375]\n  |. . . [-> . .| [3:4] PP -> P * NP                 [0.61]\n  |. . . . > . .| [4:4] Det -> * 'my'                [0.2]\n  |. [---] . . .| [1:3] VP -> V NP *                 [0.0455]\n  |. . > . . . .| [2:2] S  -> * NP VP                [1.0]\n  |> . . . . . .| [0:0] NP -> * NP PP                [0.25]\n  |> . . . . . .| [0:0] NP -> * 'I'                  [0.15]\n  |. . . [-----]| [3:6] PP -> P NP *                 [0.0305]\n  |. . [-------]| [2:6] NP -> NP PP *                [0.0007625]\n  |. [---------]| [1:6] VP -> V NP *                 [0.0003469375]\n  |[===========]| [0:6] S  -> NP VP *                [5.2040625e-05]\n  |. [---------]| [1:6] VP -> VP PP *                [0.000138775]\n  |[===========]| [0:6] S  -> NP VP *                [2.081625e-05]\n  |. [--------->| [1:6] VP -> VP * PP                [3.469375e-05]\n  |. [--------->| [1:6] VP -> VP * PP                [1.38775e-05]\n  |. . [------->| [2:6] S  -> NP * VP                [0.0007625]\n  |. . [------->| [2:6] NP -> NP * PP                [0.000190625]\n  |. . . . [---]| [4:6] NP -> Det N *                [0.05]\n  |. . . . > . .| [4:4] S  -> * NP VP                [1.0]\n  |[-----] . . .| [0:3] S  -> NP VP *                [0.006825]\n  |. . . . [--->| [4:6] NP -> NP * PP                [0.0125]\n  |. . . . [--->| [4:6] S  -> NP * VP                [0.05]\n  |. . . . > . .| [4:4] NP -> * NP PP                [0.25]\n  |. . [-> . . .| [2:3] NP -> NP * PP                [0.025]\n\ns: I saw John with my telescope\nparser: <nltk.parse.pchart.UnsortedChartParser object at 0x7ff984b15690>\ngrammar: Grammar with 17 productions (start state = S)\n    S -> NP VP [1.0]\n    NP -> Det N [0.5]\n    NP -> NP PP [0.25]\n    NP -> 'John' [0.1]\n    NP -> 'I' [0.15]\n    Det -> 'the' [0.8]\n    Det -> 'my' [0.2]\n    N -> 'man' [0.5]\n    N -> 'telescope' [0.5]\n    VP -> VP PP [0.1]\n    VP -> V NP [0.7]\n    VP -> V [0.2]\n    V -> 'ate' [0.35]\n    V -> 'saw' [0.65]\n    PP -> P NP [1.0]\n    P -> 'with' [0.61]\n    P -> 'under' [0.39]\n  |[-] . . . . .| [0:1] 'I'                          [1.0]\n  |. [-] . . . .| [1:2] 'saw'                        [1.0]\n  |. . [-] . . .| [2:3] 'John'                       [1.0]\n  |. . . [-] . .| [3:4] 'with'                       [1.0]\n  |. . . . [-] .| [4:5] 'my'                         [1.0]\n  |. . . . . [-]| [5:6] 'telescope'                  [1.0]\n  |. . . . . [-]| [5:6] 'telescope'                  [1.0]\n  |. . . . . [-]| [5:6] N  -> 'telescope' *          [0.5]\n  |. . . . . > .| [5:5] N  -> * 'telescope'          [0.5]\n  |. . . . [-] .| [4:5] 'my'                         [1.0]\n  |. . . . [-] .| [4:5] Det -> 'my' *                [0.2]\n  |. . . . [-> .| [4:5] NP -> Det * N                [0.1]\n  |. . . . [---]| [4:6] NP -> Det N *                [0.05]\n  |. . . . [--->| [4:6] NP -> NP * PP                [0.0125]\n  |. . . . [--->| [4:6] S  -> NP * VP                [0.05]\n  |. . . . > . .| [4:4] NP -> * NP PP                [0.25]\n  |. . . . > . .| [4:4] S  -> * NP VP                [1.0]\n  |. . . . > . .| [4:4] NP -> * Det N                [0.5]\n  |. . . . > . .| [4:4] Det -> * 'my'                [0.2]\n  |. . . [-] . .| [3:4] 'with'                       [1.0]\n  |. . . [-] . .| [3:4] P  -> 'with' *               [0.61]\n  |. . . [-> . .| [3:4] PP -> P * NP                 [0.61]\n  |. . . [-----]| [3:6] PP -> P NP *                 [0.0305]\n  |. . . > . . .| [3:3] PP -> * P NP                 [1.0]\n  |. . . > . . .| [3:3] P  -> * 'with'               [0.61]\n  |. . [-] . . .| [2:3] 'John'                       [1.0]\n  |. . [-] . . .| [2:3] NP -> 'John' *               [0.1]\n  |. . [-> . . .| [2:3] NP -> NP * PP                [0.025]\n  |. . [-------]| [2:6] NP -> NP PP *                [0.0007625]\n  |. . [------->| [2:6] NP -> NP * PP                [0.000190625]\n  |. . [------->| [2:6] S  -> NP * VP                [0.0007625]\n  |. . [-> . . .| [2:3] S  -> NP * VP                [0.1]\n  |. . > . . . .| [2:2] NP -> * NP PP                [0.25]\n  |. . > . . . .| [2:2] S  -> * NP VP                [1.0]\n  |. . > . . . .| [2:2] NP -> * 'John'               [0.1]\n  |. [-] . . . .| [1:2] 'saw'                        [1.0]\n  |. [-] . . . .| [1:2] V  -> 'saw' *                [0.65]\n  |. [-] . . . .| [1:2] VP -> V *                    [0.13]\n  |. [-> . . . .| [1:2] VP -> VP * PP                [0.013]\n  |. > . . . . .| [1:1] VP -> * VP PP                [0.1]\n  |. [-> . . . .| [1:2] VP -> V * NP                 [0.455]\n  |. [---------]| [1:6] VP -> V NP *                 [0.0003469375]\n  |. [--------->| [1:6] VP -> VP * PP                [3.469375e-05]\n  |. [---] . . .| [1:3] VP -> V NP *                 [0.0455]\n  |. [---> . . .| [1:3] VP -> VP * PP                [0.00455]\n  |. [---------]| [1:6] VP -> VP PP *                [0.000138775]\n  |. [--------->| [1:6] VP -> VP * PP                [1.38775e-05]\n  |. > . . . . .| [1:1] VP -> * V                    [0.2]\n  |. > . . . . .| [1:1] VP -> * V NP                 [0.7]\n  |. > . . . . .| [1:1] V  -> * 'saw'                [0.65]\n  |[-] . . . . .| [0:1] 'I'                          [1.0]\n  |[-] . . . . .| [0:1] NP -> 'I' *                  [0.15]\n  |[-> . . . . .| [0:1] NP -> NP * PP                [0.0375]\n  |[-> . . . . .| [0:1] S  -> NP * VP                [0.15]\n  |[===========]| [0:6] S  -> NP VP *                [2.081625e-05]\n  |[===========]| [0:6] S  -> NP VP *                [5.2040625e-05]\n  |[-----] . . .| [0:3] S  -> NP VP *                [0.006825]\n  |[---] . . . .| [0:2] S  -> NP VP *                [0.0195]\n  |> . . . . . .| [0:0] NP -> * NP PP                [0.25]\n  |> . . . . . .| [0:0] S  -> * NP VP                [1.0]\n  |> . . . . . .| [0:0] NP -> * 'I'                  [0.15]\n\ns: I saw John with my telescope\nparser: <nltk.parse.pchart.LongestChartParser object at 0x7ff984b156d0>\ngrammar: Grammar with 17 productions (start state = S)\n    S -> NP VP [1.0]\n    NP -> Det N [0.5]\n    NP -> NP PP [0.25]\n    NP -> 'John' [0.1]\n    NP -> 'I' [0.15]\n    Det -> 'the' [0.8]\n    Det -> 'my' [0.2]\n    N -> 'man' [0.5]\n    N -> 'telescope' [0.5]\n    VP -> VP PP [0.1]\n    VP -> V NP [0.7]\n    VP -> V [0.2]\n    V -> 'ate' [0.35]\n    V -> 'saw' [0.65]\n    PP -> P NP [1.0]\n    P -> 'with' [0.61]\n    P -> 'under' [0.39]\n  |[-] . . . . .| [0:1] 'I'                          [1.0]\n  |. [-] . . . .| [1:2] 'saw'                        [1.0]\n  |. . [-] . . .| [2:3] 'John'                       [1.0]\n  |. . . [-] . .| [3:4] 'with'                       [1.0]\n  |. . . . [-] .| [4:5] 'my'                         [1.0]\n  |. . . . . [-]| [5:6] 'telescope'                  [1.0]\n  |. . . . . [-]| [5:6] 'telescope'                  [1.0]\n  |. . . . . [-]| [5:6] N  -> 'telescope' *          [0.5]\n  |. . . . [-] .| [4:5] 'my'                         [1.0]\n  |. . . . [-] .| [4:5] Det -> 'my' *                [0.2]\n  |. . . . [-> .| [4:5] NP -> Det * N                [0.1]\n  |. . . . [---]| [4:6] NP -> Det N *                [0.05]\n  |. . . . [--->| [4:6] NP -> NP * PP                [0.0125]\n  |. . . . [--->| [4:6] S  -> NP * VP                [0.05]\n  |. . . [-] . .| [3:4] 'with'                       [1.0]\n  |. . . [-] . .| [3:4] P  -> 'with' *               [0.61]\n  |. . . [-> . .| [3:4] PP -> P * NP                 [0.61]\n  |. . . [-----]| [3:6] PP -> P NP *                 [0.0305]\n  |. . [-] . . .| [2:3] 'John'                       [1.0]\n  |. . [-] . . .| [2:3] NP -> 'John' *               [0.1]\n  |. . [-> . . .| [2:3] NP -> NP * PP                [0.025]\n  |. . [-------]| [2:6] NP -> NP PP *                [0.0007625]\n  |. . [------->| [2:6] NP -> NP * PP                [0.000190625]\n  |. . [------->| [2:6] S  -> NP * VP                [0.0007625]\n  |. . [-> . . .| [2:3] S  -> NP * VP                [0.1]\n  |. [-] . . . .| [1:2] 'saw'                        [1.0]\n  |. [-] . . . .| [1:2] V  -> 'saw' *                [0.65]\n  |. [-] . . . .| [1:2] VP -> V *                    [0.13]\n  |. [-> . . . .| [1:2] VP -> VP * PP                [0.013]\n  |. [-> . . . .| [1:2] VP -> V * NP                 [0.455]\n  |. [---------]| [1:6] VP -> V NP *                 [0.0003469375]\n  |. [--------->| [1:6] VP -> VP * PP                [3.469375e-05]\n  |. [---] . . .| [1:3] VP -> V NP *                 [0.0455]\n  |. [---> . . .| [1:3] VP -> VP * PP                [0.00455]\n  |. [---------]| [1:6] VP -> VP PP *                [0.000138775]\n  |. [--------->| [1:6] VP -> VP * PP                [1.38775e-05]\n  |[-] . . . . .| [0:1] 'I'                          [1.0]\n  |[-] . . . . .| [0:1] NP -> 'I' *                  [0.15]\n  |[-> . . . . .| [0:1] NP -> NP * PP                [0.0375]\n  |[-> . . . . .| [0:1] S  -> NP * VP                [0.15]\n  |[===========]| [0:6] S  -> NP VP *                [2.081625e-05]\n  |[===========]| [0:6] S  -> NP VP *                [5.2040625e-05]\n  |[-----] . . .| [0:3] S  -> NP VP *                [0.006825]\n  |[---] . . . .| [0:2] S  -> NP VP *                [0.0195]\n  |> . . . . . .| [0:0] NP -> * NP PP                [0.25]\n  |> . . . . . .| [0:0] S  -> * NP VP                [1.0]\n  |> . . . . . .| [0:0] NP -> * 'I'                  [0.15]\n  |. > . . . . .| [1:1] VP -> * VP PP                [0.1]\n  |. > . . . . .| [1:1] VP -> * V                    [0.2]\n  |. > . . . . .| [1:1] VP -> * V NP                 [0.7]\n  |. > . . . . .| [1:1] V  -> * 'saw'                [0.65]\n  |. . > . . . .| [2:2] NP -> * NP PP                [0.25]\n  |. . > . . . .| [2:2] S  -> * NP VP                [1.0]\n  |. . > . . . .| [2:2] NP -> * 'John'               [0.1]\n  |. . . > . . .| [3:3] PP -> * P NP                 [1.0]\n  |. . . > . . .| [3:3] P  -> * 'with'               [0.61]\n  |. . . . > . .| [4:4] NP -> * NP PP                [0.25]\n  |. . . . > . .| [4:4] S  -> * NP VP                [1.0]\n  |. . . . > . .| [4:4] NP -> * Det N                [0.5]\n  |. . . . > . .| [4:4] Det -> * 'my'                [0.2]\n  |. . . . . > .| [5:5] N  -> * 'telescope'          [0.5]\n\ns: I saw John with my telescope\nparser: <nltk.parse.pchart.InsideChartParser object at 0x7ff984b15710>\ngrammar: Grammar with 17 productions (start state = S)\n    S -> NP VP [1.0]\n    NP -> Det N [0.5]\n    NP -> NP PP [0.25]\n    NP -> 'John' [0.1]\n    NP -> 'I' [0.15]\n    Det -> 'the' [0.8]\n    Det -> 'my' [0.2]\n    N -> 'man' [0.5]\n    N -> 'telescope' [0.5]\n    VP -> VP PP [0.1]\n    VP -> V NP [0.7]\n    VP -> V [0.2]\n    V -> 'ate' [0.35]\n    V -> 'saw' [0.65]\n    PP -> P NP [1.0]\n    P -> 'with' [0.61]\n    P -> 'under' [0.39]\n  |[-] . . . . .| [0:1] 'I'                          [1.0]\n  |. [-] . . . .| [1:2] 'saw'                        [1.0]\n  |. . [-] . . .| [2:3] 'John'                       [1.0]\n  |. . . [-] . .| [3:4] 'with'                       [1.0]\n  |. . . . [-] .| [4:5] 'my'                         [1.0]\n  |. . . . . [-]| [5:6] 'telescope'                  [1.0]\n  |. . . . . [-]| [5:6] 'telescope'                  [1.0]\n  |. . . . [-] .| [4:5] 'my'                         [1.0]\n  |. . . . > . .| [4:4] Det -> * 'my'                [DISCARDED]\n  |. . . [-] . .| [3:4] 'with'                       [1.0]\n  |. . . . [-] .| [4:5] Det -> 'my' *                [DISCARDED]\n  |. . [-] . . .| [2:3] 'John'                       [1.0]\n  |. . > . . . .| [2:2] NP -> * 'John'               [DISCARDED]\n  |. [-] . . . .| [1:2] 'saw'                        [1.0]\n  |. . [-] . . .| [2:3] NP -> 'John' *               [DISCARDED]\n  |[-] . . . . .| [0:1] 'I'                          [1.0]\n  |> . . . . . .| [0:0] NP -> * 'I'                  [DISCARDED]\n  |. [-] . . . .| [1:2] V  -> 'saw' *                [0.65]\n  |. [-] . . . .| [1:2] VP -> V *                    [DISCARDED]\n  |[-] . . . . .| [0:1] NP -> 'I' *                  [DISCARDED]\n  |. > . . . . .| [1:1] VP -> * V                    [DISCARDED]\n  |. > . . . . .| [1:1] VP -> * V NP                 [0.7]\n  |. > . . . . .| [1:1] V  -> * 'saw'                [0.65]\n  |. . . [-] . .| [3:4] P  -> 'with' *               [0.61]\n  |. . . > . . .| [3:3] PP -> * P NP                 [1.0]\n  |. . . [-> . .| [3:4] PP -> P * NP                 [0.61]\n  |. . . > . . .| [3:3] P  -> * 'with'               [0.61]\n  |. . . . . [-]| [5:6] N  -> 'telescope' *          [0.5]\n  |. . . . . > .| [5:5] N  -> * 'telescope'          [0.5]\n  |. [-> . . . .| [1:2] VP -> V * NP                 [0.455]\n  |. [---] . . .| [1:3] VP -> V NP *                 [0.0455]\n  |. > . . . . .| [1:1] VP -> * VP PP                [0.1]\n  |. [-> . . . .| [1:2] VP -> VP * PP                [0.013]\n  |. [---> . . .| [1:3] VP -> VP * PP                [0.00455]\n()\n-------------------------+------------------------------------------\n   Parser           Beam | Time (secs)   # Parses   Average P(parse)\n-------------------------+------------------------------------------\n      ViterbiParser    0 |     0.0068          1   0.00005204062500\n  InsideChartParser    0 |     0.0085          2   0.00007285687500\n  RandomChartParser    0 |     0.0080          2   0.00007285687500\nUnsortedChartParser    0 |     0.0080          2   0.00007285687500\n LongestChartParser    0 |     0.0081          2   0.00007285687500\n  InsideChartParser    0 |     0.0031          0   0.00000000000000\n-------------------------+------------------------------------------\n       (All Parses)      |        n/a          2   0.00003642843750\n()\n(S\n  (NP I)\n  (VP\n    (VP (V saw) (NP John))\n    (PP (P with) (NP (Det my) (N telescope))))) [2.081625e-05]\n(S\n  (NP I)\n  (VP\n    (V saw)\n    (NP\n      (NP John)\n      (PP (P with) (NP (Det my) (N telescope)))))) [5.2040625e-05]\n"
     ]
    }
   ],
   "source": [
    "# Run the parsers on the tokenized sentence.\n",
    "from functools import reduce\n",
    "times = []\n",
    "average_p = []\n",
    "num_parses = []\n",
    "all_parses = {}\n",
    "for parser in parsers:\n",
    "    print('\\ns: %s\\nparser: %s\\ngrammar: %s' % (sent,parser,grammar))\n",
    "    parser.trace(3)\n",
    "    t = time.time()\n",
    "    parses = parser.parse_all(tokens)\n",
    "    times.append(time.time()-t)\n",
    "    if parses: \n",
    "        lp = len(parses)\n",
    "        p = reduce(lambda a,b:a+b.prob(), parses, 0.0)\n",
    "    else: \n",
    "        p = 0\n",
    "    average_p.append(p)\n",
    "    num_parses.append(len(parses))\n",
    "    for p in parses: \n",
    "        all_parses[p.freeze()] = 1\n",
    "\n",
    "# Print summary statistics\n",
    "print()\n",
    "print('-------------------------+------------------------------------------')\n",
    "print('   Parser           Beam | Time (secs)   # Parses   Average P(parse)')\n",
    "print('-------------------------+------------------------------------------')\n",
    "for i in range(len(parsers)):\n",
    "    print('%19s %4d |%11.4f%11d%19.14f' % (parsers[i].__class__.__name__,\n",
    "      getattr(parsers[0], \"beam_size\", 0),\n",
    "      times[i], \n",
    "      num_parses[i], \n",
    "      average_p[i]))\n",
    "parses = all_parses.keys()\n",
    "if parses: \n",
    "    p = reduce(lambda a,b:a+b.prob(), parses, 0)/len(parses)\n",
    "else: \n",
    "    p = 0\n",
    "print('-------------------------+------------------------------------------')\n",
    "print('%19s      |%11s%11d%19.14f' % ('(All Parses)', 'n/a', len(parses), p))\n",
    "print()\n",
    "\n",
    "for parse in parses:\n",
    "    print(parse)"
   ]
  },
  {
   "cell_type": "code",
   "execution_count": null,
   "metadata": {},
   "outputs": [],
   "source": []
  }
 ]
}