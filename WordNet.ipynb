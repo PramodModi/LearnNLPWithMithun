{
  "nbformat": 4,
  "nbformat_minor": 0,
  "metadata": {
    "colab": {
      "name": "WordNet.ipynb",
      "provenance": [],
      "authorship_tag": "ABX9TyNKAHAuYNLLbZ6phhNRCeD6",
      "include_colab_link": true
    },
    "kernelspec": {
      "name": "python3",
      "display_name": "Python 3"
    },
    "language_info": {
      "name": "python"
    }
  },
  "cells": [
    {
      "cell_type": "markdown",
      "metadata": {
        "id": "view-in-github",
        "colab_type": "text"
      },
      "source": [
        "<a href=\"https://colab.research.google.com/github/mithunkumarsr/LearnNLPWithMithun/blob/main/WordNet.ipynb\" target=\"_parent\"><img src=\"https://colab.research.google.com/assets/colab-badge.svg\" alt=\"Open In Colab\"/></a>"
      ]
    },
    {
      "cell_type": "markdown",
      "metadata": {
        "id": "ELg961xqaeXI"
      },
      "source": [
        "https://www.nltk.org/howto/wordnet.html\n"
      ]
    },
    {
      "cell_type": "code",
      "metadata": {
        "colab": {
          "base_uri": "https://localhost:8080/"
        },
        "id": "OCeo2xAzXEcl",
        "outputId": "c5328520-d2da-4f71-ba94-d2cedc56efd7"
      },
      "source": [
        "import nltk\n",
        "nltk.download('wordnet')\n",
        "from nltk.corpus import wordnet as wn"
      ],
      "execution_count": 4,
      "outputs": [
        {
          "output_type": "stream",
          "text": [
            "[nltk_data] Downloading package wordnet to /root/nltk_data...\n",
            "[nltk_data]   Unzipping corpora/wordnet.zip.\n"
          ],
          "name": "stdout"
        }
      ]
    },
    {
      "cell_type": "code",
      "metadata": {
        "colab": {
          "base_uri": "https://localhost:8080/"
        },
        "id": "mXg4kAUeXxk6",
        "outputId": "104dfb84-9d2e-404d-96b5-05c78908a20b"
      },
      "source": [
        "wn.synsets('dog') # doctest: +ELLIPSIS +NORMALIZE_WHITESPACE"
      ],
      "execution_count": 6,
      "outputs": [
        {
          "output_type": "execute_result",
          "data": {
            "text/plain": [
              "[Synset('dog.n.01'),\n",
              " Synset('frump.n.01'),\n",
              " Synset('dog.n.03'),\n",
              " Synset('cad.n.01'),\n",
              " Synset('frank.n.02'),\n",
              " Synset('pawl.n.01'),\n",
              " Synset('andiron.n.01'),\n",
              " Synset('chase.v.01')]"
            ]
          },
          "metadata": {
            "tags": []
          },
          "execution_count": 6
        }
      ]
    },
    {
      "cell_type": "code",
      "metadata": {
        "colab": {
          "base_uri": "https://localhost:8080/"
        },
        "id": "encsySD3X7AZ",
        "outputId": "1b35f7e7-183c-4877-abcd-8c2333130e16"
      },
      "source": [
        "wn.synsets('dog', pos=wn.VERB)"
      ],
      "execution_count": 7,
      "outputs": [
        {
          "output_type": "execute_result",
          "data": {
            "text/plain": [
              "[Synset('chase.v.01')]"
            ]
          },
          "metadata": {
            "tags": []
          },
          "execution_count": 7
        }
      ]
    },
    {
      "cell_type": "markdown",
      "metadata": {
        "id": "qEPoL9rPX6dy"
      },
      "source": [
        "\n",
        " A synset is identified with a 3-part name of the form: word.pos.nn:\n"
      ]
    },
    {
      "cell_type": "code",
      "metadata": {
        "colab": {
          "base_uri": "https://localhost:8080/"
        },
        "id": "R1jVFJ4rXZau",
        "outputId": "dec22f17-da7b-4d7a-b0b8-8d1f394b4a59"
      },
      "source": [
        "wn.synsets('big')"
      ],
      "execution_count": 5,
      "outputs": [
        {
          "output_type": "execute_result",
          "data": {
            "text/plain": [
              "[Synset('large.a.01'),\n",
              " Synset('big.s.02'),\n",
              " Synset('bad.s.02'),\n",
              " Synset('big.s.04'),\n",
              " Synset('big.s.05'),\n",
              " Synset('big.s.06'),\n",
              " Synset('boastful.s.01'),\n",
              " Synset('big.s.08'),\n",
              " Synset('adult.s.01'),\n",
              " Synset('big.s.10'),\n",
              " Synset('big.s.11'),\n",
              " Synset('big.s.12'),\n",
              " Synset('big.s.13'),\n",
              " Synset('big.r.01'),\n",
              " Synset('boastfully.r.01'),\n",
              " Synset('big.r.03'),\n",
              " Synset('big.r.04')]"
            ]
          },
          "metadata": {
            "tags": []
          },
          "execution_count": 5
        }
      ]
    },
    {
      "cell_type": "code",
      "metadata": {
        "colab": {
          "base_uri": "https://localhost:8080/"
        },
        "id": "h2bj_WazYLX6",
        "outputId": "7a682976-0790-4af3-b76a-6810e6502eb2"
      },
      "source": [
        "print(wn.synset('dog.n.01').definition())"
      ],
      "execution_count": 8,
      "outputs": [
        {
          "output_type": "stream",
          "text": [
            "a member of the genus Canis (probably descended from the common wolf) that has been domesticated by man since prehistoric times; occurs in many breeds\n"
          ],
          "name": "stdout"
        }
      ]
    },
    {
      "cell_type": "code",
      "metadata": {
        "colab": {
          "base_uri": "https://localhost:8080/"
        },
        "id": "fa27qDQiYQRN",
        "outputId": "dc19c93c-5eef-451f-ef8e-38ac7da9d3a1"
      },
      "source": [
        "wn.synset('dog.n.01').lemmas()"
      ],
      "execution_count": 9,
      "outputs": [
        {
          "output_type": "execute_result",
          "data": {
            "text/plain": [
              "[Lemma('dog.n.01.dog'),\n",
              " Lemma('dog.n.01.domestic_dog'),\n",
              " Lemma('dog.n.01.Canis_familiaris')]"
            ]
          },
          "metadata": {
            "tags": []
          },
          "execution_count": 9
        }
      ]
    },
    {
      "cell_type": "code",
      "metadata": {
        "colab": {
          "base_uri": "https://localhost:8080/"
        },
        "id": "MvJgIpvDYUkT",
        "outputId": "6097a76c-4811-49fb-c49c-a6592107ab77"
      },
      "source": [
        "nltk.download('omw')\n",
        "sorted(wn.langs())"
      ],
      "execution_count": 11,
      "outputs": [
        {
          "output_type": "stream",
          "text": [
            "[nltk_data] Downloading package omw to /root/nltk_data...\n",
            "[nltk_data]   Unzipping corpora/omw.zip.\n"
          ],
          "name": "stdout"
        },
        {
          "output_type": "execute_result",
          "data": {
            "text/plain": [
              "['als',\n",
              " 'arb',\n",
              " 'bul',\n",
              " 'cat',\n",
              " 'cmn',\n",
              " 'dan',\n",
              " 'ell',\n",
              " 'eng',\n",
              " 'eus',\n",
              " 'fas',\n",
              " 'fin',\n",
              " 'fra',\n",
              " 'glg',\n",
              " 'heb',\n",
              " 'hrv',\n",
              " 'ind',\n",
              " 'ita',\n",
              " 'jpn',\n",
              " 'nld',\n",
              " 'nno',\n",
              " 'nob',\n",
              " 'pol',\n",
              " 'por',\n",
              " 'qcn',\n",
              " 'slv',\n",
              " 'spa',\n",
              " 'swe',\n",
              " 'tha',\n",
              " 'zsm']"
            ]
          },
          "metadata": {
            "tags": []
          },
          "execution_count": 11
        }
      ]
    },
    {
      "cell_type": "code",
      "metadata": {
        "colab": {
          "base_uri": "https://localhost:8080/"
        },
        "id": "ui4rXufxYhHF",
        "outputId": "99f6670c-5ea8-4f05-aab9-eaa34144ec4f"
      },
      "source": [
        "wn.lemmas('dog', lang='eng')"
      ],
      "execution_count": 15,
      "outputs": [
        {
          "output_type": "execute_result",
          "data": {
            "text/plain": [
              "[Lemma('dog.n.01.dog'),\n",
              " Lemma('frump.n.01.dog'),\n",
              " Lemma('dog.n.03.dog'),\n",
              " Lemma('cad.n.01.dog'),\n",
              " Lemma('frank.n.02.dog'),\n",
              " Lemma('pawl.n.01.dog'),\n",
              " Lemma('andiron.n.01.dog'),\n",
              " Lemma('chase.v.01.dog')]"
            ]
          },
          "metadata": {
            "tags": []
          },
          "execution_count": 15
        }
      ]
    },
    {
      "cell_type": "code",
      "metadata": {
        "colab": {
          "base_uri": "https://localhost:8080/"
        },
        "id": "_CKKLSXsY1-A",
        "outputId": "fab2f59f-b9fa-4549-8aa8-3f3eb2342051"
      },
      "source": [
        "dog = wn.synset('dog.n.01')\n",
        "dog.hypernyms()"
      ],
      "execution_count": 17,
      "outputs": [
        {
          "output_type": "execute_result",
          "data": {
            "text/plain": [
              "[Synset('canine.n.02'), Synset('domestic_animal.n.01')]"
            ]
          },
          "metadata": {
            "tags": []
          },
          "execution_count": 17
        }
      ]
    },
    {
      "cell_type": "code",
      "metadata": {
        "colab": {
          "base_uri": "https://localhost:8080/"
        },
        "id": "8cmEww4sY_dq",
        "outputId": "2cf060b7-6237-456a-9787-d435e7d8caff"
      },
      "source": [
        "dog.hyponyms()  # doctest: +ELLIPSIS"
      ],
      "execution_count": 18,
      "outputs": [
        {
          "output_type": "execute_result",
          "data": {
            "text/plain": [
              "[Synset('basenji.n.01'),\n",
              " Synset('corgi.n.01'),\n",
              " Synset('cur.n.01'),\n",
              " Synset('dalmatian.n.02'),\n",
              " Synset('great_pyrenees.n.01'),\n",
              " Synset('griffon.n.02'),\n",
              " Synset('hunting_dog.n.01'),\n",
              " Synset('lapdog.n.01'),\n",
              " Synset('leonberg.n.01'),\n",
              " Synset('mexican_hairless.n.01'),\n",
              " Synset('newfoundland.n.01'),\n",
              " Synset('pooch.n.01'),\n",
              " Synset('poodle.n.01'),\n",
              " Synset('pug.n.01'),\n",
              " Synset('puppy.n.01'),\n",
              " Synset('spitz.n.01'),\n",
              " Synset('toy_dog.n.01'),\n",
              " Synset('working_dog.n.01')]"
            ]
          },
          "metadata": {
            "tags": []
          },
          "execution_count": 18
        }
      ]
    },
    {
      "cell_type": "code",
      "metadata": {
        "colab": {
          "base_uri": "https://localhost:8080/"
        },
        "id": "Pi60KoFHZD5M",
        "outputId": "71d797fa-162d-40b3-b796-11b9682344a8"
      },
      "source": [
        "dog.member_holonyms()"
      ],
      "execution_count": 19,
      "outputs": [
        {
          "output_type": "execute_result",
          "data": {
            "text/plain": [
              "[Synset('canis.n.01'), Synset('pack.n.06')]"
            ]
          },
          "metadata": {
            "tags": []
          },
          "execution_count": 19
        }
      ]
    },
    {
      "cell_type": "code",
      "metadata": {
        "colab": {
          "base_uri": "https://localhost:8080/"
        },
        "id": "bxoveZ4FZGL-",
        "outputId": "c186e01d-75f7-4690-f577-7204909e9388"
      },
      "source": [
        "wn.synset('dog.n.01').lowest_common_hypernyms(wn.synset('cat.n.01'))"
      ],
      "execution_count": 20,
      "outputs": [
        {
          "output_type": "execute_result",
          "data": {
            "text/plain": [
              "[Synset('carnivore.n.01')]"
            ]
          },
          "metadata": {
            "tags": []
          },
          "execution_count": 20
        }
      ]
    },
    {
      "cell_type": "markdown",
      "metadata": {
        "id": "Fbxfu-t2Xww5"
      },
      "source": [
        "Similarity\n"
      ]
    },
    {
      "cell_type": "code",
      "metadata": {
        "colab": {
          "base_uri": "https://localhost:8080/"
        },
        "id": "WheBiUf7ZZrN",
        "outputId": "d18d9349-9c6c-4fc9-bcb7-5647ad7a0a1f"
      },
      "source": [
        "dog = wn.synset('dog.n.01')\n",
        "cat = wn.synset('cat.n.01')\n",
        "dog.path_similarity(cat)\n",
        "#dog.path_similarity(dog)"
      ],
      "execution_count": 24,
      "outputs": [
        {
          "output_type": "execute_result",
          "data": {
            "text/plain": [
              "0.2"
            ]
          },
          "metadata": {
            "tags": []
          },
          "execution_count": 24
        }
      ]
    },
    {
      "cell_type": "code",
      "metadata": {
        "colab": {
          "base_uri": "https://localhost:8080/"
        },
        "id": "r1WkF2LbZteI",
        "outputId": "5bbcefe6-2210-4bf5-d2af-350524acacc5"
      },
      "source": [
        "dog.lch_similarity(cat) # Leacock-Chodorow Similarity"
      ],
      "execution_count": 26,
      "outputs": [
        {
          "output_type": "execute_result",
          "data": {
            "text/plain": [
              "2.0281482472922856"
            ]
          },
          "metadata": {
            "tags": []
          },
          "execution_count": 26
        }
      ]
    },
    {
      "cell_type": "code",
      "metadata": {
        "colab": {
          "base_uri": "https://localhost:8080/"
        },
        "id": "otSPqRoHZ7uG",
        "outputId": "3217d6d1-e1a8-4ba6-d36e-3eb5a96aa98a"
      },
      "source": [
        "from nltk.corpus import wordnet_ic\n",
        "nltk.download('wordnet_ic')\n",
        "brown_ic = wordnet_ic.ic('ic-brown.dat')\n",
        "semcor_ic = wordnet_ic.ic('ic-semcor.dat')\n",
        "from nltk.corpus import genesis\n",
        "nltk.download('genesis')\n",
        "genesis_ic = wn.ic(genesis, False, 0.0)"
      ],
      "execution_count": 30,
      "outputs": [
        {
          "output_type": "stream",
          "text": [
            "[nltk_data] Downloading package wordnet_ic to /root/nltk_data...\n",
            "[nltk_data]   Package wordnet_ic is already up-to-date!\n",
            "[nltk_data] Downloading package genesis to /root/nltk_data...\n",
            "[nltk_data]   Unzipping corpora/genesis.zip.\n"
          ],
          "name": "stdout"
        }
      ]
    },
    {
      "cell_type": "code",
      "metadata": {
        "colab": {
          "base_uri": "https://localhost:8080/"
        },
        "id": "9rPJ74NmaPcn",
        "outputId": "815d0c50-3641-43b0-e9e5-2fadf89fceb0"
      },
      "source": [
        "dog.res_similarity(cat, brown_ic)"
      ],
      "execution_count": 31,
      "outputs": [
        {
          "output_type": "execute_result",
          "data": {
            "text/plain": [
              "7.911666509036577"
            ]
          },
          "metadata": {
            "tags": []
          },
          "execution_count": 31
        }
      ]
    },
    {
      "cell_type": "code",
      "metadata": {
        "colab": {
          "base_uri": "https://localhost:8080/"
        },
        "id": "p4SLAotjaRM6",
        "outputId": "337b6503-5cc0-4c3e-f10b-49f461134688"
      },
      "source": [
        "dog.res_similarity(cat, genesis_ic)"
      ],
      "execution_count": 32,
      "outputs": [
        {
          "output_type": "execute_result",
          "data": {
            "text/plain": [
              "7.204023991374837"
            ]
          },
          "metadata": {
            "tags": []
          },
          "execution_count": 32
        }
      ]
    },
    {
      "cell_type": "markdown",
      "metadata": {
        "id": "zO1v8gC0acRx"
      },
      "source": [
        ""
      ]
    }
  ]
}