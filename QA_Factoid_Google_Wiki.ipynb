{
  "nbformat": 4,
  "nbformat_minor": 0,
  "metadata": {
    "colab": {
      "name": "QA_Factoid_Google_Wiki.ipynb",
      "provenance": [],
      "authorship_tag": "ABX9TyPrr+mTbQdZMq8wprl8G9cD",
      "include_colab_link": true
    },
    "kernelspec": {
      "name": "python3",
      "display_name": "Python 3"
    },
    "language_info": {
      "name": "python"
    }
  },
  "cells": [
    {
      "cell_type": "markdown",
      "metadata": {
        "id": "view-in-github",
        "colab_type": "text"
      },
      "source": [
        "<a href=\"https://colab.research.google.com/github/mithunkumarsr/LearnNLPWithMithun/blob/main/QA_Factoid_Google_Wiki.ipynb\" target=\"_parent\"><img src=\"https://colab.research.google.com/assets/colab-badge.svg\" alt=\"Open In Colab\"/></a>"
      ]
    },
    {
      "cell_type": "code",
      "metadata": {
        "colab": {
          "base_uri": "https://localhost:8080/"
        },
        "id": "5tmxVf6KTguQ",
        "outputId": "24eaa6ea-dea9-4a9f-f1d1-7ef1b13f4212"
      },
      "source": [
        "!pip install wikipedia --quiet\n",
        "!pip install wolframalpha -- quiet\n",
        "\n",
        "import unicodedata\n",
        "import wolframalpha\n",
        "from nltk import word_tokenize, pos_tag, ne_chunk, conlltags2tree, tree2conlltags\n",
        "from googlesearch import search\n",
        "import wikipedia\n",
        "import collections"
      ],
      "execution_count": 1,
      "outputs": [
        {
          "output_type": "stream",
          "text": [
            "Requirement already satisfied: wolframalpha in /usr/local/lib/python3.7/dist-packages (5.0.0)\n",
            "\u001b[31mERROR: Could not find a version that satisfies the requirement quiet (from versions: none)\u001b[0m\n",
            "\u001b[31mERROR: No matching distribution found for quiet\u001b[0m\n"
          ],
          "name": "stdout"
        }
      ]
    },
    {
      "cell_type": "code",
      "metadata": {
        "id": "tOxY3oNmToYJ"
      },
      "source": [
        "# Determine the type of question i.e location, date, person ,definiton\n",
        "def classify_question(question):\n",
        "    q = question.lower().split()\n",
        "    if q[0] == 'where':\n",
        "        return 'Location'\n",
        "    elif 'year'  in question:\n",
        "            return 'Date'\n",
        "    elif 'country' in question:\n",
        "        return 'Country'\n",
        "    elif q[0] == 'who':\n",
        "        return 'Person'\n",
        "    elif q[0] == 'what':\n",
        "        return 'Definition'\n",
        "    else:\n",
        "\n",
        "        return 'None'"
      ],
      "execution_count": 4,
      "outputs": []
    },
    {
      "cell_type": "code",
      "metadata": {
        "id": "rZCj27xRkj3h"
      },
      "source": [
        "\n",
        "def wiki_search(question):\n",
        "    l = question.split(' ')\n",
        "    if len(l) > 2:\n",
        "        ques = \" \".join(l[2:])\n",
        "    try:\n",
        "        print('inside wiki search')\n",
        "        ans = (wikipedia.summary(question, sentences=1)).encode('ascii', 'ignore')\n",
        "        link = wikipedia.page(ques)\n",
        "        ans = str(ans) + '\\n For more information: '+str(link.url)\n",
        "    except:\n",
        "        print ('wiki_search_failed_google')\n",
        "        google_search(question)\n",
        "    return ans"
      ],
      "execution_count": 5,
      "outputs": []
    },
    {
      "cell_type": "code",
      "metadata": {
        "colab": {
          "base_uri": "https://localhost:8080/"
        },
        "id": "LcEpg6c4KoaI",
        "outputId": "15b6c8b9-2f5e-41ed-921a-517c059fedf5"
      },
      "source": [
        "question = \"Where is Delhi\"\n",
        "print(question)\n",
        "answer = wiki_search(question)\n",
        "print('answer: ',answer)"
      ],
      "execution_count": 6,
      "outputs": [
        {
          "output_type": "stream",
          "text": [
            "Where is Delhi\n",
            "inside wiki search\n",
            "answer:  b'Delhi (; Hindi pronunciation: [dli] Dill; Punjabi pronunciation: [dli] Dill; Urdu pronunciation: [dli] Dhl), officially the National Capital Territory (NCT) of Delhi, is a city and a union territory of India containing New Delhi, the capital of India.'\n",
            " For more information: https://en.wikipedia.org/wiki/Del\n"
          ],
          "name": "stdout"
        }
      ]
    },
    {
      "cell_type": "code",
      "metadata": {
        "colab": {
          "base_uri": "https://localhost:8080/"
        },
        "id": "_1x-VtqIL_0f",
        "outputId": "d8115b3c-c6be-4119-ca28-d80df39670cc"
      },
      "source": [
        "question_type = classify_question(question)\n",
        "print(question_type)"
      ],
      "execution_count": 7,
      "outputs": [
        {
          "output_type": "stream",
          "text": [
            "Location\n"
          ],
          "name": "stdout"
        }
      ]
    },
    {
      "cell_type": "markdown",
      "metadata": {
        "id": "GGb-cFdCKoFZ"
      },
      "source": [
        "Using Google API"
      ]
    },
    {
      "cell_type": "code",
      "metadata": {
        "id": "_R-TdoVhWHHD"
      },
      "source": [
        "def google_search(question):\n",
        "    first_page = search(question,1)\n",
        "    first_page = list(first_page)\n",
        "    #print first_page\n",
        "    top_three_result = []\n",
        "    i = 0\n",
        "    while i<5:\n",
        "        top_three_result.append(first_page[i].description)\n",
        "        i+=1\n",
        "\n",
        "    first_search = ''.join(top_three_result).encode('ascii','replace')\n",
        "\n",
        "    ne_tree = (ne_chunk(pos_tag(word_tokenize(first_search))))\n",
        "\n",
        "    iob_tagged = tree2conlltags(ne_tree)\n",
        "\n",
        "    ss = [tuple(map(str,eachTuple)) for eachTuple in iob_tagged]\n",
        "    question_type = classify_question(question)\n",
        "    print('question_type: ',question_type)\n",
        "    if question_type == 'None':\n",
        "        ans = \"Oops! I don't know.\"\n",
        "    else:\n",
        "        google_answer = []\n",
        "        if question_type == 'Person':\n",
        "            for i in range(len(ss)):\n",
        "                if ss[i][2] == 'B-PERSON'or ss[i][2] == 'I-PERSON':\n",
        "                    google_answer.append(ss[i][0])\n",
        "        elif question_type == 'Country':\n",
        "            print('country identified')\n",
        "            for i in range(len(ss)):\n",
        "                if ss[i][2] == 'B-GPE'or ss[i][2] == 'I-GPE':\n",
        "                    google_answer.append(ss[i][0])\n",
        "        elif question_type == 'Location':\n",
        "            for i in range(len(ss)):\n",
        "                if ss[i][2] == 'B-LOCATION'or ss[i][2] == 'I-LOCATION':\n",
        "                    google_answer.append(ss[i][0])\n",
        "        elif question_type == 'Date':\n",
        "            for i in range(len(ss)):\n",
        "                if ss[i][2] == 'B-DATE'or ss[i][2] == 'I-DATE':\n",
        "                    google_answer.append(ss[i][0])\n",
        "        print('google: ',google_answer)\n",
        "        if not google_answer:\n",
        "            ans = \"Oops, I don't know! \"\n",
        "        else:\n",
        "            print('inside else')\n",
        "            counts = collections.Counter(google_answer)\n",
        "            print('counts: ',counts)\n",
        "            t = counts.most_common(4)\n",
        "            candidate_answer =  [ seq[0] for seq in t ]\n",
        "            print(candidate_answer)\n",
        "            for i in range(len(candidate_answer)):\n",
        "                candidate_answer[i] = 'Candidate Answer '+ str(i+1)+' '+ candidate_answer[i]\n",
        "            candidate_answer = '\\n'.join(candidate_answer)\n",
        "            ans = candidate_answer\n",
        "\n",
        "    return ans"
      ],
      "execution_count": 8,
      "outputs": []
    },
    {
      "cell_type": "code",
      "metadata": {
        "id": "-R126QCBM1YH"
      },
      "source": [
        "question = \"Why is the sky blue\"\n",
        "print(question)\n",
        "answer = google_search(question)\n",
        "print('answer: ',answer)"
      ],
      "execution_count": null,
      "outputs": []
    }
  ]
}