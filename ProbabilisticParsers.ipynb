{
 "metadata": {
  "language_info": {
   "codemirror_mode": {
    "name": "ipython",
    "version": 3
   },
   "file_extension": ".py",
   "mimetype": "text/x-python",
   "name": "python",
   "nbconvert_exporter": "python",
   "pygments_lexer": "ipython3",
   "version": "2.7.16"
  },
  "orig_nbformat": 4,
  "kernelspec": {
   "name": "python3",
   "display_name": "Python 2.7.16 64-bit (conda)"
  },
  "interpreter": {
   "hash": "4e0433a132e809af46edf3ec5adc05f2aac74aa36ed4ce99e0d2f165c2fbe8aa"
  }
 },
 "nbformat": 4,
 "nbformat_minor": 2,
 "cells": [
  {
   "cell_type": "code",
   "execution_count": 1,
   "metadata": {},
   "outputs": [],
   "source": [
    "import nltk\n",
    "from nltk import PCFG\n",
    "import numpy"
   ]
  },
  {
   "cell_type": "code",
   "execution_count": 2,
   "metadata": {},
   "outputs": [],
   "source": [
    "\n",
    "#sentence = [\"movies\", \"directed\", \"by\", \"mel\", \"brooks\"]\n",
    "#sentence = nltk.corpus.treebank.tagged_sents()[22]\n",
    "\n",
    "#sentence = \"adventure movies between 2000 and 2015 featuring performances by daniel craig\"\n",
    "sentence = \"movies directed by craig\"\n",
    "# #sentence = \"all movies where Vin Diesel acted from the 1990s\"\n",
    "#sentence = \"movies directed by mel brooks\\r\\n\"\n",
    "#sentence = \"action movies with Jackie Chan\\r\\n\"\n",
    "#print sentence"
   ]
  },
  {
   "cell_type": "code",
   "execution_count": 3,
   "metadata": {},
   "outputs": [
    {
     "output_type": "stream",
     "name": "stdout",
     "text": [
      "['movies', 'directed', 'by', 'craig']\n"
     ]
    }
   ],
   "source": [
    "    sentence = nltk.word_tokenize(sentence)\n",
    "    \n",
    "    #sentence = [nltk.word_tokenize(sent) for sent in sentence]\n",
    "    #sentence = nltk.word_tokenize(sentence)\n",
    "    #sentence = [nltk.pos_tag(sent) for sent in sentence]\n",
    "    #sentence = nltk.pos_tag(sentence)\n",
    "    print sentence"
   ]
  },
  {
   "cell_type": "code",
   "execution_count": 4,
   "metadata": {},
   "outputs": [],
   "source": [
    "#TV = transitive verb\n",
    "#IV = intransitive verb\n",
    "# DatV = Dative verb\n",
    "grammar = PCFG.fromstring(\"\"\"\n",
    "          S    -> NP VP                   [1.0]\n",
    "          VP   -> TV IN NP                [0.8]\n",
    "          VP   -> IV                      [0.1]\n",
    "          VP   -> DatV NP NP              [0.1]  \n",
    "          IN   -> 'by'                    [1.0]\n",
    "          TV   -> 'directed'              [1.0]\n",
    "          IV   -> 'directed'              [1.0]\n",
    "          DatV -> 'gave'                  [1.0]\n",
    "          NP   -> 'movies'      [0.5]\n",
    "          NP   -> 'craig'          [0.5]\n",
    "            \"\"\")\n"
   ]
  },
  {
   "cell_type": "code",
   "execution_count": 5,
   "metadata": {},
   "outputs": [
    {
     "output_type": "stream",
     "name": "stdout",
     "text": [
      "(S (NP movies) (VP (TV directed) (IN by) (NP craig))) (p=0.2)\n"
     ]
    }
   ],
   "source": [
    "viterbi_parser = nltk.ViterbiParser(grammar)\n",
    "for tree in viterbi_parser.parse(sentence):\n",
    "        print tree"
   ]
  },
  {
   "cell_type": "code",
   "execution_count": 7,
   "metadata": {},
   "outputs": [],
   "source": [
    "# \n",
    "\n",
    "from nltk import PCFG\n",
    "toy_pcfg1 = PCFG.fromstring(\"\"\"\n",
    "    S -> NP VP [1.0]\n",
    "    NP -> Det N [0.5] | NP PP [0.25] | 'John' [0.1] | 'I' [0.15]\n",
    "    Det -> 'the' [0.8] | 'my' [0.2]\n",
    "    N -> 'man' [0.5] | 'telescope' [0.5]\n",
    "    VP -> VP PP [0.1] | V NP [0.7] | V [0.2]\n",
    "    V -> 'ate' [0.35] | 'saw' [0.65]\n",
    "    PP -> P NP [1.0]\n",
    "    P -> 'with' [0.61] | 'under' [0.39]\n",
    "\"\"\")"
   ]
  },
  {
   "cell_type": "code",
   "execution_count": 8,
   "metadata": {},
   "outputs": [
    {
     "output_type": "stream",
     "name": "stdout",
     "text": [
      "('A PCFG production:', NP -> NP PP [0.25])\n('pcfg_prod.lhs()  =>', NP)\n('pcfg_prod.rhs()  =>', (NP, PP))\n('pcfg_prod.prob() =>', 0.25)\n"
     ]
    }
   ],
   "source": [
    "from nltk.corpus import treebank\n",
    "from nltk import treetransforms\n",
    "from nltk import induce_pcfg\n",
    "from nltk.parse import pchart\n",
    "\n",
    "pcfg_prods = toy_pcfg1.productions()\n",
    "\n",
    "pcfg_prod = pcfg_prods[2]\n",
    "print('A PCFG production:', pcfg_prod)\n",
    "print('pcfg_prod.lhs()  =>', pcfg_prod.lhs())\n",
    "print('pcfg_prod.rhs()  =>', pcfg_prod.rhs())\n",
    "print('pcfg_prod.prob() =>', pcfg_prod.prob())"
   ]
  },
  {
   "cell_type": "code",
   "execution_count": 9,
   "metadata": {},
   "outputs": [
    {
     "output_type": "stream",
     "name": "stdout",
     "text": [
      "Induce PCFG grammar from treebank data:\n"
     ]
    }
   ],
   "source": [
    "# extract productions from three trees and induce the PCFG\n",
    "print(\"Induce PCFG grammar from treebank data:\")\n",
    "\n",
    "productions = []\n",
    "for item in treebank.fileids()[:2]:\n",
    "  for tree in treebank.parsed_sents(item):\n",
    "    # perform optional tree transformations, e.g.:\n",
    "    tree.collapse_unary(collapsePOS = False)# Remove branches A-B-C into A-B+C\n",
    "    tree.chomsky_normal_form(horzMarkov = 2)# Remove A->(B,C,D) into A->B,C+D->D\n",
    "    productions += tree.productions()"
   ]
  },
  {
   "cell_type": "code",
   "execution_count": 10,
   "metadata": {},
   "outputs": [
    {
     "output_type": "stream",
     "name": "stdout",
     "text": [
      "Grammar with 86 productions (start state = S)\n    NNP -> 'Agnew' [0.0714286]\n    JJ -> 'industrial' [0.142857]\n    VP -> VBZ NP-PRD [0.2]\n    VP|<PP-CLR-NP-TMP> -> PP-CLR NP-TMP [1.0]\n    NP -> NN [0.0666667]\n    NP -> NNP NNP [0.2]\n    VP -> MD VP [0.2]\n    NP-TMP -> NNP CD [1.0]\n    NP-SBJ -> -NONE- [0.333333]\n    . -> '.' [1.0]\n    NN -> 'group' [0.142857]\n    NN -> 'conglomerate' [0.142857]\n    DT -> 'a' [0.4]\n    IN -> 'of' [0.75]\n    NP|<NNP-NNP> -> NNP NNP [0.5]\n    CC -> 'and' [1.0]\n    NP|<VBG-NN> -> VBG NN [1.0]\n    NNP -> 'Rudolph' [0.0714286]\n    NP -> NP PP [0.0666667]\n    NNP -> 'PLC' [0.0714286]\n    NP-SBJ|<,-ADJP> -> , NP-SBJ|<ADJP-,> [1.0]\n    CD -> '61' [0.333333]\n    PP -> IN NP [1.0]\n    NP|<JJ-NN> -> JJ NN [1.0]\n    JJ -> 'nonexecutive' [0.285714]\n    NNP -> 'N.V.' [0.0714286]\n    NNS -> 'years' [1.0]\n    VP -> VB VP|<NP-PP-CLR> [0.2]\n    NNP -> 'Dutch' [0.0714286]\n    NNP -> 'Mr.' [0.0714286]\n    NP -> DT NP|<JJ-JJ> [0.0666667]\n    NP -> DT NP|<NNP-VBG> [0.0666667]\n    JJ -> 'former' [0.142857]\n    DT -> 'the' [0.4]\n    CD -> '55' [0.333333]\n    NNP -> 'Consolidated' [0.0714286]\n    VP|<NP-PP-CLR> -> NP VP|<PP-CLR-NP-TMP> [1.0]\n    DT -> 'this' [0.2]\n    S -> NP-SBJ-1 S|<VP-.> [0.25]\n    NP -> JJ NN [0.0666667]\n    VB -> 'join' [1.0]\n    NNP -> 'Nov.' [0.0714286]\n    NP|<NNP-VBG> -> NNP NP|<VBG-NN> [1.0]\n    NP -> CD NNS [0.133333]\n    , -> ',' [1.0]\n    NNP -> 'Pierre' [0.0714286]\n    S -> NP-SBJ NP-PRD [0.25]\n    VP -> VBN S [0.2]\n    NP -> NP NP|<,-NP> [0.0666667]\n    NP-PRD -> NP PP [1.0]\n    NP -> DT NN [0.0666667]\n    PP-CLR -> IN NP [1.0]\n    NNP -> 'Gold' [0.0714286]\n    CD -> '29' [0.333333]\n    NP|<NNP-NNP> -> NNP NP|<NNP-NNP> [0.5]\n    VBG -> 'publishing' [1.0]\n    NNP -> 'Fields' [0.0714286]\n    NP-SBJ -> NP NP-SBJ|<,-ADJP> [0.333333]\n    NN -> 'chairman' [0.285714]\n    JJ -> 'British' [0.142857]\n    VBN -> 'named' [1.0]\n    NNP -> 'Elsevier' [0.0714286]\n    NP -> NNP NP|<NNP-NNP> [0.0666667]\n    NN -> 'director' [0.285714]\n    S|<VP-.> -> VP . [1.0]\n    NP-SBJ-1|<UCP-,> -> UCP , [1.0]\n    VP -> VBD VP [0.2]\n    -NONE- -> '*-1' [1.0]\n    UCP|<CC-NP> -> CC NP [1.0]\n    NP-SBJ-1|<,-UCP> -> , NP-SBJ-1|<UCP-,> [1.0]\n    IN -> 'as' [0.25]\n    UCP -> ADJP UCP|<CC-NP> [1.0]\n    NP-SBJ|<ADJP-,> -> ADJP , [1.0]\n    JJ -> 'old' [0.285714]\n    MD -> 'will' [1.0]\n    NP-SBJ -> NNP NNP [0.333333]\n    ADJP -> NP JJ [1.0]\n    NP|<JJ-JJ> -> JJ NP|<JJ-NN> [1.0]\n    S -> NP-SBJ S|<VP-.> [0.5]\n    NP -> DT NP|<JJ-NN> [0.133333]\n    NNP -> 'Vinken' [0.142857]\n    VBD -> 'was' [1.0]\n    NN -> 'board' [0.142857]\n    VBZ -> 'is' [1.0]\n    NP|<,-NP> -> , NP [1.0]\n    NP-SBJ-1 -> NP NP-SBJ-1|<,-UCP> [1.0]\n"
     ]
    }
   ],
   "source": [
    "from nltk import Nonterminal\n",
    "S = Nonterminal('S')\n",
    "grammar = induce_pcfg(S, productions)\n",
    "print(grammar)"
   ]
  },
  {
   "cell_type": "code",
   "execution_count": 11,
   "metadata": {
    "tags": [
     "outputPrepend"
    ]
   },
   "outputs": [
    {
     "output_type": "stream",
     "name": "stdout",
     "text": [
      "4286]\n  |. . . . . . . . . . . . . . . > . . .| [15:15] NP|<NNP-VBG> -> * NNP NP|<VBG-NN> [1.0]\n  |. . . . . . . . . . . . . . . > . . .| [15:15] NP-TMP -> * NNP CD [1.0]\n  |. . . . . . . . . . . . . . . > . . .| [15:15] NP|<NNP-NNP> -> * NNP NP|<NNP-NNP> [0.5]\n  |. . . . . . . . . . . . . . . > . . .| [15:15] NP|<NNP-NNP> -> * NNP NNP [0.5]\n  |. . . . . . . . . . . . . . . > . . .| [15:15] NP-SBJ -> * NNP NNP [0.333333333333]\n  |. . . . . . . . . . . . . . . > . . .| [15:15] NP -> * NNP NNP [0.2]\n  |. . . . . . . . . . . . . . . [-> . .| [15:16] NP|<NNP-VBG> -> NNP * NP|<VBG-NN> [0.0714285714286]\n  |. . . . . . . . . . . . . . . [-> . .| [15:16] NP-TMP -> NNP * CD [0.0714285714286]\n  |. . . . . . . . . . . . . . . > . . .| [15:15] NNP -> * 'Nov.' [0.0714285714286]\n  |. . . . . . . . . . . . . . . > . . .| [15:15] NP -> * NNP NP|<NNP-NNP> [0.0666666666667]\n  |> . . . . . . . . . . . . . . . . . .| [0:0] NP -> * NNP NP|<NNP-NNP> [0.0666666666667]\n  |. . . . . . . . . . > . . . . . . . .| [10:10] NP -> * NN [0.0666666666667]\n  |. > . . . . . . . . . . . . . . . . .| [1:1] NP -> * NNP NP|<NNP-NNP> [0.0666666666667]\n  |. . . . . . . . . . . . . . > . . . .| [14:14] NP -> * NN [0.0666666666667]\n  |. . . . . . . . . . . . . > . . . . .| [13:13] NP -> * JJ NN [0.0666666666667]\n  |. . . . . > . . . . . . . . . . . . .| [5:5] NP -> * JJ NN [0.0666666666667]\n  |. . . . . . . . . . . . > . . . . . .| [12:12] NP -> * DT NN [0.0666666666667]\n  |. . . . . . . . . . . . > . . . . . .| [12:12] NP -> * DT NP|<NNP-VBG> [0.0666666666667]\n  |. . . . . . . . . . . . > . . . . . .| [12:12] NP -> * DT NP|<JJ-JJ> [0.0666666666667]\n  |. . . . . . . . . > . . . . . . . . .| [9:9] NP -> * DT NN [0.0666666666667]\n  |. . . . . . . . . > . . . . . . . . .| [9:9] NP -> * DT NP|<NNP-VBG> [0.0666666666667]\n  |. . . . . . . . . > . . . . . . . . .| [9:9] NP -> * DT NP|<JJ-JJ> [0.0666666666667]\n  |. . . . . . . . . . . . [-> . . . . .| [12:13] NP -> DT * NP|<JJ-NN> [0.0533333333333]\n  |. . . . . . . . . [-> . . . . . . . .| [9:10] NP -> DT * NP|<JJ-NN> [0.0533333333333]\n  |. [-> . . . . . . . . . . . . . . . .| [1:2] NP-SBJ -> NNP * NNP [0.047619047619]\n  |. . . . . . . . . . . . . . . . [-> .| [16:17] NP -> CD * NNS [0.0444444444444]\n  |. . . [-> . . . . . . . . . . . . . .| [3:4] NP -> CD * NNS [0.0444444444444]\n  |. . . [---] . . . . . . . . . . . . .| [3:5] NP -> CD NNS * [0.0444444444444]\n  |. . . > . . . . . . . . . . . . . . .| [3:3] NP-SBJ-1 -> * NP NP-SBJ-1|<,-UCP> [1.0]\n  |. . . > . . . . . . . . . . . . . . .| [3:3] ADJP -> * NP JJ [1.0]\n  |. . . > . . . . . . . . . . . . . . .| [3:3] NP-PRD -> * NP PP [1.0]\n  |. . . > . . . . . . . . . . . . . . .| [3:3] VP|<NP-PP-CLR> -> * NP VP|<PP-CLR-NP-TMP> [1.0]\n  |. . . > . . . . . . . . . . . . . . .| [3:3] NP-SBJ -> * NP NP-SBJ|<,-ADJP> [0.333333333333]\n  |. . . > . . . . . . . . . . . . . . .| [3:3] NP -> * NP NP|<,-NP> [0.0666666666667]\n  |. . . > . . . . . . . . . . . . . . .| [3:3] NP -> * NP PP [0.0666666666667]\n  |. . . [---> . . . . . . . . . . . . .| [3:5] NP-SBJ-1 -> NP * NP-SBJ-1|<,-UCP> [0.0444444444444]\n  |. . . [---> . . . . . . . . . . . . .| [3:5] ADJP -> NP * JJ [0.0444444444444]\n  |. . . [---> . . . . . . . . . . . . .| [3:5] NP-PRD -> NP * PP [0.0444444444444]\n  |. . . [---> . . . . . . . . . . . . .| [3:5] VP|<NP-PP-CLR> -> NP * VP|<PP-CLR-NP-TMP> [0.0444444444444]\n  |. . [-----] . . . . . . . . . . . . .| [2:5] NP|<,-NP> -> , NP * [0.0444444444444]\n  |. . . . . . . . . . . . . . . [-> . .| [15:16] NP|<NNP-NNP> -> NNP * NP|<NNP-NNP> [0.0357142857143]\n  |. . . . . . . . . . . . . . . [-> . .| [15:16] NP|<NNP-NNP> -> NNP * NNP [0.0357142857143]\n  |[-> . . . . . . . . . . . . . . . . .| [0:1] NP|<NNP-NNP> -> NNP * NP|<NNP-NNP> [0.0357142857143]\n  |[-> . . . . . . . . . . . . . . . . .| [0:1] NP|<NNP-NNP> -> NNP * NNP [0.0357142857143]\n  |. [-> . . . . . . . . . . . . . . . .| [1:2] NP -> NNP * NNP [0.0285714285714]\n  |. . . . . . . . . . . . [-> . . . . .| [12:13] NP -> DT * NN [0.0266666666667]\n  |. . . . . . . . . . . . [-> . . . . .| [12:13] NP -> DT * NP|<NNP-VBG> [0.0266666666667]\n  |. . . . . . . . . . . . [-> . . . . .| [12:13] NP -> DT * NP|<JJ-JJ> [0.0266666666667]\n  |. . . . . . . . . [-> . . . . . . . .| [9:10] NP -> DT * NN [0.0266666666667]\n  |. . . . . . . . . [-> . . . . . . . .| [9:10] NP -> DT * NP|<NNP-VBG> [0.0266666666667]\n  |. . . . . . . . . [-> . . . . . . . .| [9:10] NP -> DT * NP|<JJ-JJ> [0.0266666666667]\n  |. . . . . . . . . . . . . . . [---] .| [15:17] NP-TMP -> NNP CD * [0.0238095238095]\n  |. . . . . . . . . . . . . . . [-> . .| [15:16] NP-SBJ -> NNP * NNP [0.0238095238095]\n  |[-> . . . . . . . . . . . . . . . . .| [0:1] NP-SBJ -> NNP * NNP [0.0238095238095]\n  |. . . . . . . . . . . . . . [-] . . .| [14:15] NP -> NN * [0.0190476190476]\n  |. . . . . . . . . . . . . . > . . . .| [14:14] NP-SBJ-1 -> * NP NP-SBJ-1|<,-UCP> [1.0]\n  |. . . . . . . . . . . . . . > . . . .| [14:14] ADJP -> * NP JJ [1.0]\n  |. . . . . . . . . . . . . . > . . . .| [14:14] NP-PRD -> * NP PP [1.0]\n  |. . . . . . . . . . . . . . > . . . .| [14:14] VP|<NP-PP-CLR> -> * NP VP|<PP-CLR-NP-TMP> [1.0]\n  |. . . . . . . . . . . . . . > . . . .| [14:14] NP-SBJ -> * NP NP-SBJ|<,-ADJP> [0.333333333333]\n  |. . . . . . . . . . . . . . > . . . .| [14:14] NP -> * NP NP|<,-NP> [0.0666666666667]\n  |. . . . . . . . . . . . . . > . . . .| [14:14] NP -> * NP PP [0.0666666666667]\n  |. . . . . . . . . . . . . . [-> . . .| [14:15] NP-SBJ-1 -> NP * NP-SBJ-1|<,-UCP> [0.0190476190476]\n  |. . . . . . . . . . . . . . [-> . . .| [14:15] ADJP -> NP * JJ [0.0190476190476]\n  |. . . . . . . . . . . . . . [-> . . .| [14:15] NP-PRD -> NP * PP [0.0190476190476]\n  |. . . . . . . . . . . . . . [-> . . .| [14:15] VP|<NP-PP-CLR> -> NP * VP|<PP-CLR-NP-TMP> [0.0190476190476]\n  |. . . . . . . . . . . . . [-> . . . .| [13:14] NP -> JJ * NN [0.0190476190476]\n  |. . . . . [-> . . . . . . . . . . . .| [5:6] NP -> JJ * NN [0.0190476190476]\n  |. . . [---> . . . . . . . . . . . . .| [3:5] NP-SBJ -> NP * NP-SBJ|<,-ADJP> [0.0148148148148]\n  |. . . . . . . . . . . . . . . [-> . .| [15:16] NP -> NNP * NNP [0.0142857142857]\n  |[-> . . . . . . . . . . . . . . . . .| [0:1] NP -> NNP * NNP [0.0142857142857]\n  |. . . [-----] . . . . . . . . . . . .| [3:6] ADJP -> NP JJ * [0.0126984126984]\n  |. . . > . . . . . . . . . . . . . . .| [3:3] NP-SBJ|<ADJP-,> -> * ADJP , [1.0]\n  |. . . > . . . . . . . . . . . . . . .| [3:3] UCP -> * ADJP UCP|<CC-NP> [1.0]\n  |. . . [-----> . . . . . . . . . . . .| [3:6] NP-SBJ|<ADJP-,> -> ADJP * , [0.0126984126984]\n  |. . . [-------] . . . . . . . . . . .| [3:7] NP-SBJ|<ADJP-,> -> ADJP , * [0.0126984126984]\n  |. . [---------] . . . . . . . . . . .| [2:7] NP-SBJ|<,-ADJP> -> , NP-SBJ|<ADJP-,> * [0.0126984126984]\n  |. . . [-----> . . . . . . . . . . . .| [3:6] UCP -> ADJP * UCP|<CC-NP> [0.0126984126984]\n  |. . . . . . . . . . [-] . . . . . . .| [10:11] NP -> NN * [0.00952380952381]\n  |. . . . . . . . . . > . . . . . . . .| [10:10] NP-SBJ-1 -> * NP NP-SBJ-1|<,-UCP> [1.0]\n  |. . . . . . . . . . > . . . . . . . .| [10:10] ADJP -> * NP JJ [1.0]\n  |. . . . . . . . . . > . . . . . . . .| [10:10] NP-PRD -> * NP PP [1.0]\n  |. . . . . . . . . . > . . . . . . . .| [10:10] VP|<NP-PP-CLR> -> * NP VP|<PP-CLR-NP-TMP> [1.0]\n  |. . . . . . . . . . > . . . . . . . .| [10:10] NP-SBJ -> * NP NP-SBJ|<,-ADJP> [0.333333333333]\n  |. . . . . . . . . . > . . . . . . . .| [10:10] NP -> * NP NP|<,-NP> [0.0666666666667]\n  |. . . . . . . . . . > . . . . . . . .| [10:10] NP -> * NP PP [0.0666666666667]\n  |. . . . . . . . . . [-> . . . . . . .| [10:11] NP-SBJ-1 -> NP * NP-SBJ-1|<,-UCP> [0.00952380952381]\n  |. . . . . . . . . . [-> . . . . . . .| [10:11] ADJP -> NP * JJ [0.00952380952381]\n  |. . . . . . . . . . [-> . . . . . . .| [10:11] NP-PRD -> NP * PP [0.00952380952381]\n  |. . . . . . . . . . [-> . . . . . . .| [10:11] VP|<NP-PP-CLR> -> NP * VP|<PP-CLR-NP-TMP> [0.00952380952381]\n  |. [-> . . . . . . . . . . . . . . . .| [1:2] NP -> NNP * NP|<NNP-NNP> [0.00952380952381]\n  |. . . . . . . . . . . . . . [-> . . .| [14:15] NP-SBJ -> NP * NP-SBJ|<,-ADJP> [0.00634920634921]\n  |. . . . . . . . . . . . . [---] . . .| [13:15] NP -> JJ NN * [0.00544217687075]\n  |. . . . . . . . . . . . . > . . . . .| [13:13] NP-SBJ-1 -> * NP NP-SBJ-1|<,-UCP> [1.0]\n  |. . . . . . . . . . . . . > . . . . .| [13:13] ADJP -> * NP JJ [1.0]\n  |. . . . . . . . . . . . . > . . . . .| [13:13] NP-PRD -> * NP PP [1.0]\n  |. . . . . . . . . . . . . > . . . . .| [13:13] VP|<NP-PP-CLR> -> * NP VP|<PP-CLR-NP-TMP> [1.0]\n  |. . . . . . . . . . . . . > . . . . .| [13:13] NP-SBJ -> * NP NP-SBJ|<,-ADJP> [0.333333333333]\n  |. . . . . . . . . . . . . > . . . . .| [13:13] NP -> * NP NP|<,-NP> [0.0666666666667]\n  |. . . . . . . . . . . . . > . . . . .| [13:13] NP -> * NP PP [0.0666666666667]\n  |. . . . . . . . . . . . . [---> . . .| [13:15] NP-SBJ-1 -> NP * NP-SBJ-1|<,-UCP> [0.00544217687075]\n  |. . . . . . . . . . . . . [---> . . .| [13:15] ADJP -> NP * JJ [0.00544217687075]\n  |. . . . . . . . . . . . . [---> . . .| [13:15] NP-PRD -> NP * PP [0.00544217687075]\n  |. . . . . . . . . . . . . [---> . . .| [13:15] VP|<NP-PP-CLR> -> NP * VP|<PP-CLR-NP-TMP> [0.00544217687075]\n  |[---] . . . . . . . . . . . . . . . .| [0:2] NP|<NNP-NNP> -> NNP NNP * [0.00510204081633]\n  |. . . . . . . . . . . . . . . [-> . .| [15:16] NP -> NNP * NP|<NNP-NNP> [0.0047619047619]\n  |[-> . . . . . . . . . . . . . . . . .| [0:1] NP -> NNP * NP|<NNP-NNP> [0.0047619047619]\n  |. . . . . . . . . . . . [-----] . . .| [12:15] NP -> DT NP|<JJ-NN> * [0.0043537414966]\n  |. . . . . . . . . . . . > . . . . . .| [12:12] NP-SBJ-1 -> * NP NP-SBJ-1|<,-UCP> [1.0]\n  |. . . . . . . . . . . . > . . . . . .| [12:12] ADJP -> * NP JJ [1.0]\n  |. . . . . . . . . . . . > . . . . . .| [12:12] NP-PRD -> * NP PP [1.0]\n  |. . . . . . . . . . . . > . . . . . .| [12:12] VP|<NP-PP-CLR> -> * NP VP|<PP-CLR-NP-TMP> [1.0]\n  |. . . . . . . . . . . . > . . . . . .| [12:12] NP-SBJ -> * NP NP-SBJ|<,-ADJP> [0.333333333333]\n  |. . . . . . . . . . . . > . . . . . .| [12:12] NP -> * NP NP|<,-NP> [0.0666666666667]\n  |. . . . . . . . . . . . > . . . . . .| [12:12] NP -> * NP PP [0.0666666666667]\n  |. . . . . . . . . . . . [-----> . . .| [12:15] NP-SBJ-1 -> NP * NP-SBJ-1|<,-UCP> [0.0043537414966]\n  |. . . . . . . . . . . . [-----> . . .| [12:15] ADJP -> NP * JJ [0.0043537414966]\n  |. . . . . . . . . . . . [-----> . . .| [12:15] NP-PRD -> NP * PP [0.0043537414966]\n  |. . . . . . . . . . . . [-----> . . .| [12:15] VP|<NP-PP-CLR> -> NP * VP|<PP-CLR-NP-TMP> [0.0043537414966]\n  |. . . . . . . . . [---] . . . . . . .| [9:11] NP -> DT NN * [0.00380952380952]\n  |. . . . . . . . . > . . . . . . . . .| [9:9] NP-SBJ-1 -> * NP NP-SBJ-1|<,-UCP> [1.0]\n  |. . . . . . . . . > . . . . . . . . .| [9:9] ADJP -> * NP JJ [1.0]\n  |. . . . . . . . . > . . . . . . . . .| [9:9] NP-PRD -> * NP PP [1.0]\n  |. . . . . . . . . > . . . . . . . . .| [9:9] VP|<NP-PP-CLR> -> * NP VP|<PP-CLR-NP-TMP> [1.0]\n  |. . . . . . . . . > . . . . . . . . .| [9:9] NP-SBJ -> * NP NP-SBJ|<,-ADJP> [0.333333333333]\n  |. . . . . . . . . > . . . . . . . . .| [9:9] NP -> * NP NP|<,-NP> [0.0666666666667]\n  |. . . . . . . . . > . . . . . . . . .| [9:9] NP -> * NP PP [0.0666666666667]\n  |. . . . . . . . . [---> . . . . . . .| [9:11] NP-SBJ-1 -> NP * NP-SBJ-1|<,-UCP> [0.00380952380952]\n  |. . . . . . . . . [---> . . . . . . .| [9:11] ADJP -> NP * JJ [0.00380952380952]\n  |. . . . . . . . . [---> . . . . . . .| [9:11] NP-PRD -> NP * PP [0.00380952380952]\n  |. . . . . . . . . [---> . . . . . . .| [9:11] VP|<NP-PP-CLR> -> NP * VP|<PP-CLR-NP-TMP> [0.00380952380952]\n  |[---] . . . . . . . . . . . . . . . .| [0:2] NP-SBJ -> NNP NNP * [0.00340136054422]\n  |> . . . . . . . . . . . . . . . . . .| [0:0] S  -> * NP-SBJ S|<VP-.> [0.5]\n  |> . . . . . . . . . . . . . . . . . .| [0:0] S  -> * NP-SBJ NP-PRD [0.25]\n  |. . . . . . . . . . [-> . . . . . . .| [10:11] NP-SBJ -> NP * NP-SBJ|<,-ADJP> [0.0031746031746]\n  |. . . [---> . . . . . . . . . . . . .| [3:5] NP -> NP * NP|<,-NP> [0.00296296296296]\n  |. . . [---> . . . . . . . . . . . . .| [3:5] NP -> NP * PP [0.00296296296296]\n  |[---] . . . . . . . . . . . . . . . .| [0:2] NP -> NNP NNP * [0.00204081632653]\n  |> . . . . . . . . . . . . . . . . . .| [0:0] NP-SBJ-1 -> * NP NP-SBJ-1|<,-UCP> [1.0]\n  |> . . . . . . . . . . . . . . . . . .| [0:0] ADJP -> * NP JJ [1.0]\n  |> . . . . . . . . . . . . . . . . . .| [0:0] NP-PRD -> * NP PP [1.0]\n  |> . . . . . . . . . . . . . . . . . .| [0:0] VP|<NP-PP-CLR> -> * NP VP|<PP-CLR-NP-TMP> [1.0]\n  |> . . . . . . . . . . . . . . . . . .| [0:0] NP-SBJ -> * NP NP-SBJ|<,-ADJP> [0.333333333333]\n  |> . . . . . . . . . . . . . . . . . .| [0:0] NP -> * NP NP|<,-NP> [0.0666666666667]\n  |> . . . . . . . . . . . . . . . . . .| [0:0] NP -> * NP PP [0.0666666666667]\n  |[---> . . . . . . . . . . . . . . . .| [0:2] NP-SBJ-1 -> NP * NP-SBJ-1|<,-UCP> [0.00204081632653]\n  |[---> . . . . . . . . . . . . . . . .| [0:2] ADJP -> NP * JJ [0.00204081632653]\n  |[---> . . . . . . . . . . . . . . . .| [0:2] NP-PRD -> NP * PP [0.00204081632653]\n  |[---> . . . . . . . . . . . . . . . .| [0:2] VP|<NP-PP-CLR> -> NP * VP|<PP-CLR-NP-TMP> [0.00204081632653]\n  |. . . . . . . . . . . . . [---> . . .| [13:15] NP-SBJ -> NP * NP-SBJ|<,-ADJP> [0.00181405895692]\n  |[---> . . . . . . . . . . . . . . . .| [0:2] S  -> NP-SBJ * S|<VP-.> [0.00170068027211]\n  |. . . . . . . . . . . . [-----> . . .| [12:15] NP-SBJ -> NP * NP-SBJ|<,-ADJP> [0.00145124716553]\n  |. . . . . . . . . [---> . . . . . . .| [9:11] NP-SBJ -> NP * NP-SBJ|<,-ADJP> [0.00126984126984]\n  |. . . . . . . . . . . . . . [-> . . .| [14:15] NP -> NP * NP|<,-NP> [0.00126984126984]\n  |. . . . . . . . . . . . . . [-> . . .| [14:15] NP -> NP * PP [0.00126984126984]\n  |. . . . . . . . . . . [-------] . . .| [11:15] PP-CLR -> IN NP * [0.00108843537415]\n  |. . . . . . . . . . . > . . . . . . .| [11:11] VP|<PP-CLR-NP-TMP> -> * PP-CLR NP-TMP [1.0]\n  |. . . . . . . . . . . [-------> . . .| [11:15] VP|<PP-CLR-NP-TMP> -> PP-CLR * NP-TMP [0.00108843537415]\n  |. . . . . . . . . . . [-------] . . .| [11:15] PP -> IN NP * [0.00108843537415]\n  |[---> . . . . . . . . . . . . . . . .| [0:2] S  -> NP-SBJ * NP-PRD [0.000850340136054]\n  |[---> . . . . . . . . . . . . . . . .| [0:2] NP-SBJ -> NP * NP-SBJ|<,-ADJP> [0.000680272108844]\n  |. . . . . . . . . . [-> . . . . . . .| [10:11] NP -> NP * NP|<,-NP> [0.000634920634921]\n  |. . . . . . . . . . [-> . . . . . . .| [10:11] NP -> NP * PP [0.000634920634921]\n  |. . . . . . . . . . . . . [---> . . .| [13:15] NP -> NP * NP|<,-NP> [0.000362811791383]\n  |. . . . . . . . . . . . . [---> . . .| [13:15] NP -> NP * PP [0.000362811791383]\n  |. . . . . . . . . . . . [-----> . . .| [12:15] NP -> NP * NP|<,-NP> [0.000290249433107]\n  |. . . . . . . . . . . . [-----> . . .| [12:15] NP -> NP * PP [0.000290249433107]\n  |. . . . . . . . . [---> . . . . . . .| [9:11] NP -> NP * NP|<,-NP> [0.000253968253968]\n  |. . . . . . . . . [---> . . . . . . .| [9:11] NP -> NP * PP [0.000253968253968]\n  |[---> . . . . . . . . . . . . . . . .| [0:2] NP -> NP * NP|<,-NP> [0.000136054421769]\n  |[---> . . . . . . . . . . . . . . . .| [0:2] NP -> NP * PP [0.000136054421769]\n  |. . . . . . . . . . . [-----------] .| [11:17] VP|<PP-CLR-NP-TMP> -> PP-CLR NP-TMP * [2.59151279559e-05]\n  |. . . . . . . . . . [---------] . . .| [10:15] NP-PRD -> NP PP * [1.03660511824e-05]\n  |[-------------] . . . . . . . . . . .| [0:7] NP-SBJ -> NP NP-SBJ|<,-ADJP> * [8.63837598531e-06]\n  |[---------] . . . . . . . . . . . . .| [0:5] NP -> NP NP|<,-NP> * [6.04686318972e-06]\n  |[---------> . . . . . . . . . . . . .| [0:5] NP-SBJ-1 -> NP * NP-SBJ-1|<,-UCP> [6.04686318972e-06]\n  |[---------> . . . . . . . . . . . . .| [0:5] ADJP -> NP * JJ [6.04686318972e-06]\n  |[---------> . . . . . . . . . . . . .| [0:5] NP-PRD -> NP * PP [6.04686318972e-06]\n  |[---------> . . . . . . . . . . . . .| [0:5] VP|<NP-PP-CLR> -> NP * VP|<PP-CLR-NP-TMP> [6.04686318972e-06]\n  |[-------------> . . . . . . . . . . .| [0:7] S  -> NP-SBJ * S|<VP-.> [4.31918799266e-06]\n  |. . . . . . . . . [-----------] . . .| [9:15] NP-PRD -> NP PP * [4.14642047295e-06]\n  |[-------------> . . . . . . . . . . .| [0:7] S  -> NP-SBJ * NP-PRD [2.15959399633e-06]\n  |[---------> . . . . . . . . . . . . .| [0:5] NP-SBJ -> NP * NP-SBJ|<,-ADJP> [2.01562106324e-06]\n  |[-----------] . . . . . . . . . . . .| [0:6] ADJP -> NP JJ * [1.72767519706e-06]\n  |> . . . . . . . . . . . . . . . . . .| [0:0] NP-SBJ|<ADJP-,> -> * ADJP , [1.0]\n  |> . . . . . . . . . . . . . . . . . .| [0:0] UCP -> * ADJP UCP|<CC-NP> [1.0]\n  |[-----------> . . . . . . . . . . . .| [0:6] NP-SBJ|<ADJP-,> -> ADJP * , [1.72767519706e-06]\n  |[-------------] . . . . . . . . . . .| [0:7] NP-SBJ|<ADJP-,> -> ADJP , * [1.72767519706e-06]\n  |[-----------> . . . . . . . . . . . .| [0:6] UCP -> ADJP * UCP|<CC-NP> [1.72767519706e-06]\n  |. . . . . . . . . . [---------] . . .| [10:15] NP -> NP PP * [6.91070078825e-07]\n  |. . . . . . . . . . [---------> . . .| [10:15] NP-SBJ-1 -> NP * NP-SBJ-1|<,-UCP> [6.91070078825e-07]\n  |. . . . . . . . . . [---------> . . .| [10:15] ADJP -> NP * JJ [6.91070078825e-07]\n  |. . . . . . . . . . [---------> . . .| [10:15] NP-PRD -> NP * PP [6.91070078825e-07]\n  |. . . . . . . . . . [---------> . . .| [10:15] VP|<NP-PP-CLR> -> NP * VP|<PP-CLR-NP-TMP> [6.91070078825e-07]\n  |[---------> . . . . . . . . . . . . .| [0:5] NP -> NP * NP|<,-NP> [4.03124212648e-07]\n  |[---------> . . . . . . . . . . . . .| [0:5] NP -> NP * PP [4.03124212648e-07]\n  |. . . . . . . . . [-----------] . . .| [9:15] NP -> NP PP * [2.7642803153e-07]\n  |. . . . . . . . . [-----------> . . .| [9:15] NP-SBJ-1 -> NP * NP-SBJ-1|<,-UCP> [2.7642803153e-07]\n  |. . . . . . . . . [-----------> . . .| [9:15] ADJP -> NP * JJ [2.7642803153e-07]\n  |. . . . . . . . . [-----------> . . .| [9:15] NP-PRD -> NP * PP [2.7642803153e-07]\n  |. . . . . . . . . [-----------> . . .| [9:15] VP|<NP-PP-CLR> -> NP * VP|<PP-CLR-NP-TMP> [2.7642803153e-07]\n  |. . . . . . . . . . [-------------] .| [10:17] VP|<NP-PP-CLR> -> NP VP|<PP-CLR-NP-TMP> * [2.46810742438e-07]\n  |. . . . . . . . . . [---------> . . .| [10:15] NP-SBJ -> NP * NP-SBJ|<,-ADJP> [2.30356692942e-07]\n  |. . . . . . . . . [---------------] .| [9:17] VP|<NP-PP-CLR> -> NP VP|<PP-CLR-NP-TMP> * [9.8724296975e-08]\n  |. . . . . . . . . [-----------> . . .| [9:15] NP-SBJ -> NP * NP-SBJ|<,-ADJP> [9.21426771767e-08]\n  |. . . . . . . . . . [---------> . . .| [10:15] NP -> NP * NP|<,-NP> [4.60713385883e-08]\n  |. . . . . . . . . . [---------> . . .| [10:15] NP -> NP * PP [4.60713385883e-08]\n  |. . . . . . . . [-----------------] .| [8:17] VP -> VB VP|<NP-PP-CLR> * [1.9744859395e-08]\n  |. . . . . . . . > . . . . . . . . . .| [8:8] S|<VP-.> -> * VP . [1.0]\n  |. . . . . . . . [-----------------> .| [8:17] S|<VP-.> -> VP * . [1.9744859395e-08]\n  |. . . . . . . . [-------------------]| [8:18] S|<VP-.> -> VP . * [1.9744859395e-08]\n  |. . . . . . . . . [-----------> . . .| [9:15] NP -> NP * NP|<,-NP> [1.84285354353e-08]\n  |. . . . . . . . . [-----------> . . .| [9:15] NP -> NP * PP [1.84285354353e-08]\n  |. . . . . . . [-------------------] .| [7:17] VP -> MD VP * [3.948971879e-09]\n  |. . . . . . . > . . . . . . . . . . .| [7:7] S|<VP-.> -> * VP . [1.0]\n  |. . . . . . . [-------------------> .| [7:17] S|<VP-.> -> VP * . [3.948971879e-09]\n  |. . . . . . . [---------------------]| [7:18] S|<VP-.> -> VP . * [3.948971879e-09]\n  |[===================================]| [0:18] S  -> NP-SBJ S|<VP-.> * [1.70563519231e-14]\n(S\n  (NP-SBJ\n    (NP (NNP Pierre) (NNP Vinken))\n    (NP-SBJ|<,-ADJP>\n      (, ,)\n      (NP-SBJ|<ADJP-,>\n        (ADJP (NP (CD 61) (NNS years)) (JJ old))\n        (, ,))))\n  (S|<VP-.>\n    (VP\n      (MD will)\n      (VP\n        (VB join)\n        (VP|<NP-PP-CLR>\n          (NP (DT the) (NN board))\n          (VP|<PP-CLR-NP-TMP>\n            (PP-CLR\n              (IN as)\n              (NP\n                (DT a)\n                (NP|<JJ-NN>\n                  (JJ nonexecutive)\n                  (NN director))))\n            (NP-TMP (NNP Nov.) (CD 29))))))\n    (. .))) (p=1.70564e-14)\n"
     ]
    }
   ],
   "source": [
    "print(\"Parse sentence using induced grammar:\")\n",
    "\n",
    "parser = pchart.InsideChartParser(grammar)\n",
    "parser.trace(3)\n",
    "\n",
    "sent = treebank.parsed_sents('wsj_0001.mrg')[0].leaves()\n",
    "print(sent)\n",
    "\n",
    "for parse in parser.parse(sent):\n",
    "  print(parse)"
   ]
  },
  {
   "cell_type": "code",
   "execution_count": null,
   "metadata": {},
   "outputs": [],
   "source": []
  }
 ]
}