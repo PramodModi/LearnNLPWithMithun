{
  "nbformat": 4,
  "nbformat_minor": 0,
  "metadata": {
    "colab": {
      "name": "Chatbot1.ipynb",
      "provenance": [],
      "authorship_tag": "ABX9TyPcTqcNMhYXYqJZnv3GRCx4",
      "include_colab_link": true
    },
    "kernelspec": {
      "name": "python3",
      "display_name": "Python 3"
    },
    "language_info": {
      "name": "python"
    }
  },
  "cells": [
    {
      "cell_type": "markdown",
      "metadata": {
        "id": "view-in-github",
        "colab_type": "text"
      },
      "source": [
        "<a href=\"https://colab.research.google.com/github/mithunkumarsr/LearnNLPWithMithun/blob/main/Chatbot1.ipynb\" target=\"_parent\"><img src=\"https://colab.research.google.com/assets/colab-badge.svg\" alt=\"Open In Colab\"/></a>"
      ]
    },
    {
      "cell_type": "code",
      "metadata": {
        "colab": {
          "base_uri": "https://localhost:8080/"
        },
        "id": "LG6YWvyAGqF4",
        "outputId": "53c5b7da-bfeb-4d9f-dd61-c41c45fa876a"
      },
      "source": [
        "# importing all the libraries\n",
        "import re\n",
        "import nltk\n",
        "from nltk.corpus import wordnet\n",
        "\n",
        "nltk.download('wordnet')"
      ],
      "execution_count": 1,
      "outputs": [
        {
          "output_type": "stream",
          "name": "stdout",
          "text": [
            "[nltk_data] Downloading package wordnet to /root/nltk_data...\n",
            "[nltk_data]   Unzipping corpora/wordnet.zip.\n"
          ]
        },
        {
          "output_type": "execute_result",
          "data": {
            "text/plain": [
              "True"
            ]
          },
          "metadata": {},
          "execution_count": 1
        }
      ]
    },
    {
      "cell_type": "code",
      "metadata": {
        "id": "Gzgziq6K0tG2"
      },
      "source": [
        ""
      ],
      "execution_count": null,
      "outputs": []
    },
    {
      "cell_type": "code",
      "metadata": {
        "colab": {
          "base_uri": "https://localhost:8080/"
        },
        "id": "oNDOmVRJGwYz",
        "outputId": "a948001c-8b0e-4427-ec9b-a03e4e05658a"
      },
      "source": [
        "# Building a list of Keywords\n",
        "list_words=['hello','timings']\n",
        "list_syn={}\n",
        "for word in list_words:\n",
        "    synonyms=[]\n",
        "    for syn in wordnet.synsets(word):\n",
        "        for lem in syn.lemmas():\n",
        "            # Remove any special characters from synonym strings\n",
        "            lem_name = re.sub('[^a-zA-Z0-9 \\n\\.]', ' ', lem.name())\n",
        "            synonyms.append(lem_name)\n",
        "   \n",
        "    list_syn[word]=set(synonyms)\n",
        "    \n",
        "print (list_syn)\n"
      ],
      "execution_count": null,
      "outputs": [
        {
          "output_type": "stream",
          "name": "stdout",
          "text": [
            "{'hello': {'howdy', 'how do you do', 'hello', 'hullo', 'hi'}, 'timings': {'timing', 'clock', 'time'}}\n"
          ]
        }
      ]
    },
    {
      "cell_type": "code",
      "metadata": {
        "id": "ffijyXTQG4dd"
      },
      "source": [
        "# Building dictionary of Intents & Keywords\n",
        "keywords={}\n",
        "keywords_dict={}"
      ],
      "execution_count": null,
      "outputs": []
    },
    {
      "cell_type": "code",
      "metadata": {
        "id": "Q8CIdw30G5gv"
      },
      "source": [
        "# Defining a new key in the keywords dictionary\n",
        "keywords['greet']=[]"
      ],
      "execution_count": null,
      "outputs": []
    },
    {
      "cell_type": "code",
      "metadata": {
        "id": "gG1oXhRCG7wk"
      },
      "source": [
        "# Populating the values in the keywords dictionary with synonyms of keywords formatted with RegEx metacharacters \n",
        "for synonym in list(list_syn['hello']):\n",
        "    keywords['greet'].append('.*\\\\b'+synonym+'\\\\b.*')"
      ],
      "execution_count": null,
      "outputs": []
    },
    {
      "cell_type": "code",
      "metadata": {
        "id": "tYaQw0-JG-L8"
      },
      "source": [
        "# Defining a new key in the keywords dictionary\n",
        "keywords['timings']=[]"
      ],
      "execution_count": null,
      "outputs": []
    },
    {
      "cell_type": "code",
      "metadata": {
        "id": "ONU4Dd2LHDjQ"
      },
      "source": [
        "# Populating the values in the keywords dictionary with synonyms of keywords formatted with RegEx metacharacters \n",
        "for synonym in list(list_syn['timings']):\n",
        "    keywords['timings'].append('.*\\\\b'+synonym+'\\\\b.*')"
      ],
      "execution_count": null,
      "outputs": []
    },
    {
      "cell_type": "code",
      "metadata": {
        "colab": {
          "base_uri": "https://localhost:8080/"
        },
        "id": "yctUo3LwHGMM",
        "outputId": "1670b4e4-ae53-4af3-be42-4eab2abbe114"
      },
      "source": [
        "for intent, keys in keywords.items():\n",
        "    \n",
        "    # Joining the values in the keywords dictionary with the OR (|) operator updating them in keywords_dict dictionary\n",
        "    keywords_dict[intent]=re.compile('|'.join(keys))\n",
        "print (keywords_dict)"
      ],
      "execution_count": null,
      "outputs": [
        {
          "output_type": "stream",
          "name": "stdout",
          "text": [
            "{'greet': re.compile('.*\\\\bhowdy\\\\b.*|.*\\\\bhow do you do\\\\b.*|.*\\\\bhello\\\\b.*|.*\\\\bhullo\\\\b.*|.*\\\\bhi\\\\b.*'), 'timings': re.compile('.*\\\\btiming\\\\b.*|.*\\\\bclock\\\\b.*|.*\\\\btime\\\\b.*')}\n"
          ]
        }
      ]
    },
    {
      "cell_type": "code",
      "metadata": {
        "id": "Qr5KpBIqHJvH"
      },
      "source": [
        "# Building a dictionary of responses\n",
        "responses={\n",
        "    'greet':'Hello! How can I help you?',\n",
        "    'timings':'We are open from 9AM to 5PM, Monday to Friday. We are closed on weekends and public holidays.',\n",
        "    'fallback':'I dont quite understand. Could you repeat that?',\n",
        "}"
      ],
      "execution_count": null,
      "outputs": []
    },
    {
      "cell_type": "code",
      "metadata": {
        "colab": {
          "base_uri": "https://localhost:8080/"
        },
        "id": "7wSiNhv2HOQn",
        "outputId": "0e2a79e9-4117-41da-cdc2-ef9f90517720"
      },
      "source": [
        "print (\"Welcome to MyBank. How may I help you?\")\n",
        "\n",
        "# While loop to run the chatbot indefinetely\n",
        "while (True):  \n",
        "    \n",
        "    # Takes the user input and converts all characters to lowercase\n",
        "    user_input = input().lower()\n",
        "    \n",
        "    # Defining the Chatbot's exit condition\n",
        "    if user_input == 'quit': \n",
        "        print (\"Thank you for visiting.\")\n",
        "        break    \n",
        "    \n",
        "    matched_intent = None \n",
        "    \n",
        "    for intent,pattern in keywords_dict.items():\n",
        "        \n",
        "        # Using the regular expression search function to look for keywords in user input\n",
        "        if re.search(pattern, user_input): \n",
        "            \n",
        "            # if a keyword matches, select the corresponding intent from the keywords_dict dictionary\n",
        "            matched_intent=intent  \n",
        "    \n",
        "    # The fallback intent is selected by default\n",
        "    key='fallback' \n",
        "    if matched_intent in responses:\n",
        "        \n",
        "        # If a keyword matches, the fallback intent is replaced by the matched intent as the key for the responses dictionary\n",
        "        key = matched_intent \n",
        "    \n",
        "    # The chatbot prints the response that matches the selected intent\n",
        "    print (responses[key]) "
      ],
      "execution_count": null,
      "outputs": [
        {
          "output_type": "stream",
          "name": "stdout",
          "text": [
            "Welcome to MyBank. How may I help you?\n",
            "Hello\n",
            "Hello! How can I help you?\n",
            "Good Mr\n",
            "I dont quite understand. Could you repeat that?\n",
            "Good Morning\n",
            "I dont quite understand. Could you repeat that?\n",
            "howdy\n",
            "Hello! How can I help you?\n",
            "timing\n",
            "We are open from 9AM to 5PM, Monday to Friday. We are closed on weekends and public holidays.\n",
            "when are you open\n",
            "I dont quite understand. Could you repeat that?\n",
            "time\n",
            "We are open from 9AM to 5PM, Monday to Friday. We are closed on weekends and public holidays.\n",
            "quit\n",
            "Thank you for visiting.\n"
          ]
        }
      ]
    },
    {
      "cell_type": "code",
      "metadata": {
        "id": "xjJ2xZbaH0-s"
      },
      "source": [
        "pairs = [\n",
        "    [\n",
        "        r\"(.*)my name is (.*)\",\n",
        "        [\"Hello %2, How are you today ?\",]\n",
        "    ],\n",
        "    [\n",
        "        r\"(.*)help(.*) \",\n",
        "        [\"I can help you \",]\n",
        "    ],\n",
        "     [\n",
        "        r\"(.*) your name ?\",\n",
        "        [\"My name is thecleverprogrammer, but you can just call me robot and I'm a chatbot .\",]\n",
        "    ],\n",
        "    [\n",
        "        r\"how are you (.*) ?\",\n",
        "        [\"I'm doing very well\", \"i am great !\"]\n",
        "    ],\n",
        "    [\n",
        "        r\"sorry (.*)\",\n",
        "        [\"Its alright\",\"Its OK, never mind that\",]\n",
        "    ],\n",
        "    [\n",
        "        r\"i'm (.*) (good|well|okay|ok)\",\n",
        "        [\"Nice to hear that\",\"Alright, great !\",]\n",
        "    ],\n",
        "    [\n",
        "        r\"(hi|hey|hello|hola|holla)(.*)\",\n",
        "        [\"Hello\", \"Hey there\",]\n",
        "    ],\n",
        "    [\n",
        "        r\"what (.*) want ?\",\n",
        "        [\"Make me an offer I can't refuse\",]\n",
        "        \n",
        "    ],\n",
        "    [\n",
        "        r\"(.*)created(.*)\",\n",
        "        [\"Aman Kharwal created me using Python's NLTK library \",\"top secret ;)\",]\n",
        "    ],\n",
        "    [\n",
        "        r\"(.*) (location|city) ?\",\n",
        "        ['New Delhi, India',]\n",
        "    ],\n",
        "    [\n",
        "        r\"(.*)raining in (.*)\",\n",
        "        [\"No rain in the past 4 days here in %2\",\"In %2 there is a 50% chance of rain\",]\n",
        "    ],\n",
        "    [\n",
        "        r\"how (.*) health (.*)\",\n",
        "        [\"Health is very important, but I am a computer, so I don't need to worry about my health \",]\n",
        "    ],\n",
        "    [\n",
        "        r\"(.*)(sports|game|sport)(.*)\",\n",
        "        [\"I'm a very big fan of football\",]\n",
        "    ],\n",
        "    [\n",
        "        r\"who (.*) (player|footballer)?\",\n",
        "        [\"Lionel Messi\"]\n",
        "    ],\n",
        "    [\n",
        "        r\"quit\",\n",
        "        [\"Bye for now. See you soon :) \",\"It was nice talking to you. See you soon :)\"]\n",
        "    ],\n",
        "    [\n",
        "        r\"(.*)\",\n",
        "        ['That is nice to hear']\n",
        "    ],\n",
        "]"
      ],
      "execution_count": null,
      "outputs": []
    }
  ]
}